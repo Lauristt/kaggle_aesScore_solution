{
 "cells": [
  {
   "cell_type": "markdown",
   "id": "0a8495f4",
   "metadata": {
    "papermill": {
     "duration": 0.010472,
     "end_time": "2024-06-22T00:48:29.537028",
     "exception": false,
     "start_time": "2024-06-22T00:48:29.526556",
     "status": "completed"
    },
    "tags": []
   },
   "source": [
    "# Threshold idea from\n",
    "\n",
    "https://www.kaggle.com/code/cdeotte/rapids-svr-starter-cv-0-830-lb-0-804"
   ]
  },
  {
   "cell_type": "code",
   "execution_count": 1,
   "id": "7b1ead82",
   "metadata": {
    "execution": {
     "iopub.execute_input": "2024-06-22T00:48:29.558241Z",
     "iopub.status.busy": "2024-06-22T00:48:29.557930Z",
     "iopub.status.idle": "2024-06-22T00:49:13.494413Z",
     "shell.execute_reply": "2024-06-22T00:49:13.493484Z"
    },
    "papermill": {
     "duration": 43.949623,
     "end_time": "2024-06-22T00:49:13.496776",
     "exception": false,
     "start_time": "2024-06-22T00:48:29.547153",
     "status": "completed"
    },
    "tags": []
   },
   "outputs": [
    {
     "name": "stdout",
     "output_type": "stream",
     "text": [
      "Looking in links: /kaggle/input/downgrade-pandas\r\n",
      "Processing /kaggle/input/downgrade-pandas/pandas-1.5.3-cp310-cp310-manylinux_2_17_x86_64.manylinux2014_x86_64.whl\r\n",
      "Requirement already satisfied: python-dateutil>=2.8.1 in /opt/conda/lib/python3.10/site-packages (from pandas==1.5.3) (2.9.0.post0)\r\n",
      "Requirement already satisfied: pytz>=2020.1 in /opt/conda/lib/python3.10/site-packages (from pandas==1.5.3) (2023.3.post1)\r\n",
      "Requirement already satisfied: numpy>=1.21.0 in /opt/conda/lib/python3.10/site-packages (from pandas==1.5.3) (1.26.4)\r\n",
      "Requirement already satisfied: six>=1.5 in /opt/conda/lib/python3.10/site-packages (from python-dateutil>=2.8.1->pandas==1.5.3) (1.16.0)\r\n",
      "Installing collected packages: pandas\r\n",
      "  Attempting uninstall: pandas\r\n",
      "    Found existing installation: pandas 2.1.4\r\n",
      "    Uninstalling pandas-2.1.4:\r\n",
      "      Successfully uninstalled pandas-2.1.4\r\n",
      "\u001b[31mERROR: pip's dependency resolver does not currently take into account all the packages that are installed. This behaviour is the source of the following dependency conflicts.\r\n",
      "cudf 23.8.0 requires cubinlinker, which is not installed.\r\n",
      "cudf 23.8.0 requires cupy-cuda11x>=12.0.0, which is not installed.\r\n",
      "cudf 23.8.0 requires ptxcompiler, which is not installed.\r\n",
      "cuml 23.8.0 requires cupy-cuda11x>=12.0.0, which is not installed.\r\n",
      "dask-cudf 23.8.0 requires cupy-cuda11x>=12.0.0, which is not installed.\r\n",
      "tensorflow-decision-forests 1.8.1 requires wurlitzer, which is not installed.\r\n",
      "beatrix-jupyterlab 2023.128.151533 requires jupyterlab~=3.6.0, but you have jupyterlab 4.1.6 which is incompatible.\r\n",
      "cudf 23.8.0 requires cuda-python<12.0a0,>=11.7.1, but you have cuda-python 12.4.0 which is incompatible.\r\n",
      "cudf 23.8.0 requires protobuf<5,>=4.21, but you have protobuf 3.20.3 which is incompatible.\r\n",
      "cudf 23.8.0 requires pyarrow==11.*, but you have pyarrow 15.0.2 which is incompatible.\r\n",
      "cuml 23.8.0 requires dask==2023.7.1, but you have dask 2024.4.1 which is incompatible.\r\n",
      "dask-cuda 23.8.0 requires dask==2023.7.1, but you have dask 2024.4.1 which is incompatible.\r\n",
      "dask-cudf 23.8.0 requires dask==2023.7.1, but you have dask 2024.4.1 which is incompatible.\r\n",
      "dask-expr 1.0.11 requires pandas>=2, but you have pandas 1.5.3 which is incompatible.\r\n",
      "featuretools 1.30.0 requires pandas>=2.0.0, but you have pandas 1.5.3 which is incompatible.\r\n",
      "libpysal 4.9.2 requires packaging>=22, but you have packaging 21.3 which is incompatible.\r\n",
      "libpysal 4.9.2 requires shapely>=2.0.1, but you have shapely 1.8.5.post1 which is incompatible.\r\n",
      "mizani 0.11.1 requires pandas>=2.1.0, but you have pandas 1.5.3 which is incompatible.\r\n",
      "momepy 0.7.0 requires shapely>=2, but you have shapely 1.8.5.post1 which is incompatible.\r\n",
      "osmnx 1.9.2 requires shapely>=2.0, but you have shapely 1.8.5.post1 which is incompatible.\r\n",
      "plotnine 0.13.4 requires pandas<3.0.0,>=2.1.0, but you have pandas 1.5.3 which is incompatible.\r\n",
      "pyldavis 3.4.1 requires pandas>=2.0.0, but you have pandas 1.5.3 which is incompatible.\r\n",
      "raft-dask 23.8.0 requires dask==2023.7.1, but you have dask 2024.4.1 which is incompatible.\r\n",
      "spopt 0.6.0 requires shapely>=2.0.1, but you have shapely 1.8.5.post1 which is incompatible.\r\n",
      "woodwork 0.30.0 requires pandas>=2.0.0, but you have pandas 1.5.3 which is incompatible.\r\n",
      "xarray 2024.3.0 requires packaging>=22, but you have packaging 21.3 which is incompatible.\r\n",
      "ydata-profiling 4.6.4 requires numpy<1.26,>=1.16.0, but you have numpy 1.26.4 which is incompatible.\u001b[0m\u001b[31m\r\n",
      "\u001b[0mSuccessfully installed pandas-1.5.3\r\n"
     ]
    }
   ],
   "source": [
    "!pip install --find-links /kaggle/input/downgrade-pandas /kaggle/input/downgrade-pandas/pandas-1.5.3-cp310-cp310-manylinux_2_17_x86_64.manylinux2014_x86_64.whl"
   ]
  },
  {
   "cell_type": "code",
   "execution_count": 2,
   "id": "0a468b49",
   "metadata": {
    "execution": {
     "iopub.execute_input": "2024-06-22T00:49:13.520017Z",
     "iopub.status.busy": "2024-06-22T00:49:13.519712Z",
     "iopub.status.idle": "2024-06-22T00:52:45.282989Z",
     "shell.execute_reply": "2024-06-22T00:52:45.281699Z"
    },
    "papermill": {
     "duration": 211.77762,
     "end_time": "2024-06-22T00:52:45.285659",
     "exception": false,
     "start_time": "2024-06-22T00:49:13.508039",
     "status": "completed"
    },
    "tags": []
   },
   "outputs": [
    {
     "name": "stdout",
     "output_type": "stream",
     "text": [
      "Train shape (17307, 3)\r\n",
      "\r\n",
      "Test shape (3, 2)\r\n",
      "Train samples per fold:\r\n",
      "Loading train embeddings for /kaggle/input/essay-embeddings-v1/microsoft_deberta-base.npy\r\n",
      "Loading train embeddings for /kaggle/input/essay-embeddings-v1/microsoft_deberta-large.npy\r\n",
      "Loading train embeddings for /kaggle/input/essay-embeddings-v1/microsoft_deberta-v3-large.npy\r\n",
      "Loading train embeddings for /kaggle/input/essay-embeddings-v1/allenai_longformer-base-4096.npy\r\n",
      "Loading train embeddings for /kaggle/input/essay-embeddings-v1/google_bigbird-roberta-base.npy\r\n",
      "Loading train embeddings for /kaggle/input/essay-embeddings-v1/google_bigbird-roberta-large.npy\r\n",
      "Our concatenated train embeddings have shape (17307, 5376)\r\n",
      "/opt/conda/lib/python3.10/site-packages/cudf/utils/_numba.py:110: UserWarning: Using CUDA toolkit version (12, 4) with CUDA driver version (12, 2) requires minor version compatibility, which is not yet supported for CUDA driver versions 12.0 and above. It is likely that many cuDF operations will not work in this state. Please install CUDA toolkit version (12, 2) to continue using cuDF.\r\n",
      "  warnings.warn(\r\n",
      "<frozen importlib._bootstrap>:241: RuntimeWarning: pyarrow.lib.IpcWriteOptions size changed, may indicate binary incompatibility. Expected 72 from C header, got 88 from PyObject\r\n",
      "<frozen importlib._bootstrap>:241: RuntimeWarning: pyarrow.lib.IpcReadOptions size changed, may indicate binary incompatibility. Expected 96 from C header, got 104 from PyObject\r\n",
      "<frozen importlib._bootstrap>:241: RuntimeWarning: pyarrow.lib.NativeFile size changed, may indicate binary incompatibility. Expected 96 from C header, got 104 from PyObject\r\n",
      "<frozen importlib._bootstrap>:241: RuntimeWarning: pyarrow.lib.BufferedInputStream size changed, may indicate binary incompatibility. Expected 96 from C header, got 104 from PyObject\r\n",
      "<frozen importlib._bootstrap>:241: RuntimeWarning: pyarrow.lib.BufferedOutputStream size changed, may indicate binary incompatibility. Expected 96 from C header, got 104 from PyObject\r\n",
      "<frozen importlib._bootstrap>:241: RuntimeWarning: pyarrow.lib.CompressedInputStream size changed, may indicate binary incompatibility. Expected 96 from C header, got 104 from PyObject\r\n",
      "<frozen importlib._bootstrap>:241: RuntimeWarning: pyarrow.lib.CompressedOutputStream size changed, may indicate binary incompatibility. Expected 96 from C header, got 104 from PyObject\r\n",
      "RAPIDS version 23.08.00\r\n",
      "#########################\r\n",
      "### Fold 1\r\n",
      "#########################\r\n",
      "=> QWK score: 0.8209047199786209\r\n",
      "\r\n",
      "#########################\r\n",
      "### Fold 2\r\n",
      "#########################\r\n",
      "=> QWK score: 0.8111542217647214\r\n",
      "\r\n",
      "#########################\r\n",
      "### Fold 3\r\n",
      "#########################\r\n",
      "=> QWK score: 0.8129713872361811\r\n",
      "\r\n",
      "#########################\r\n",
      "### Fold 4\r\n",
      "#########################\r\n",
      "=> QWK score: 0.8099701775943562\r\n",
      "\r\n",
      "#########################\r\n",
      "### Fold 5\r\n",
      "#########################\r\n",
      "=> QWK score: 0.8308664382851847\r\n",
      "\r\n",
      "#########################\r\n",
      "### Fold 6\r\n",
      "#########################\r\n",
      "=> QWK score: 0.8296004914121011\r\n",
      "\r\n",
      "#########################\r\n",
      "### Fold 7\r\n",
      "#########################\r\n",
      "=> QWK score: 0.7992119845831585\r\n",
      "\r\n",
      "#########################\r\n",
      "### Fold 8\r\n",
      "#########################\r\n",
      "=> QWK score: 0.8293414698867183\r\n",
      "\r\n",
      "#########################\r\n",
      "### Fold 9\r\n",
      "#########################\r\n",
      "=> QWK score: 0.8180670925201524\r\n",
      "\r\n",
      "#########################\r\n",
      "### Fold 10\r\n",
      "#########################\r\n",
      "=> QWK score: 0.826742864806667\r\n",
      "\r\n",
      "#########################\r\n",
      "### Fold 11\r\n",
      "#########################\r\n",
      "=> QWK score: 0.8147785680078233\r\n",
      "\r\n",
      "#########################\r\n",
      "### Fold 12\r\n",
      "#########################\r\n",
      "=> QWK score: 0.8229261500758429\r\n",
      "\r\n",
      "#########################\r\n",
      "### Fold 13\r\n",
      "#########################\r\n",
      "=> QWK score: 0.8324802751813178\r\n",
      "\r\n",
      "#########################\r\n",
      "### Fold 14\r\n",
      "#########################\r\n",
      "=> QWK score: 0.8111859599559299\r\n",
      "\r\n",
      "#########################\r\n",
      "### Fold 15\r\n",
      "#########################\r\n",
      "=> QWK score: 0.8125871682963342\r\n",
      "\r\n",
      "#########################\r\n",
      "Overall CV QWK score = 0.8188962611415388\r\n",
      "Best thresholds are: [1.73, 2.567, 3.439, 4.294, 5.164]\r\n",
      "=> achieve Overall CV QWK score = 0.8306307038710805\r\n",
      "Test preds shape: (3,)\r\n",
      "First 3 test preds: [2.4754057 2.9093432 4.4334545]\r\n",
      "First 3 test preds after PP: [2 3 5]\r\n",
      "Submission shape (3, 2)\r\n",
      "Exception ignored in: <object repr() failed>\r\n",
      "Traceback (most recent call last):\r\n",
      "  File \"svm_base.pyx\", line 271, in cuml.svm.svm_base.SVMBase.__del__\r\n",
      "  File \"svm_base.pyx\", line 279, in cuml.svm.svm_base.SVMBase._dealloc\r\n",
      "AttributeError: 'NoneType' object has no attribute 'float32'\r\n"
     ]
    }
   ],
   "source": [
    "!python /kaggle/input/aes2-lgbm-models/svr.py"
   ]
  },
  {
   "cell_type": "code",
   "execution_count": 3,
   "id": "c5c7829c",
   "metadata": {
    "execution": {
     "iopub.execute_input": "2024-06-22T00:52:45.314929Z",
     "iopub.status.busy": "2024-06-22T00:52:45.314553Z",
     "iopub.status.idle": "2024-06-22T00:53:05.692212Z",
     "shell.execute_reply": "2024-06-22T00:53:05.691184Z"
    },
    "papermill": {
     "duration": 20.394301,
     "end_time": "2024-06-22T00:53:05.694771",
     "exception": false,
     "start_time": "2024-06-22T00:52:45.300470",
     "status": "completed"
    },
    "tags": []
   },
   "outputs": [
    {
     "name": "stdout",
     "output_type": "stream",
     "text": [
      "CUDA_AVAILABLE = True\n"
     ]
    },
    {
     "name": "stderr",
     "output_type": "stream",
     "text": [
      "2024-06-22 00:52:51.595010: E external/local_xla/xla/stream_executor/cuda/cuda_dnn.cc:9261] Unable to register cuDNN factory: Attempting to register factory for plugin cuDNN when one has already been registered\n",
      "2024-06-22 00:52:51.595145: E external/local_xla/xla/stream_executor/cuda/cuda_fft.cc:607] Unable to register cuFFT factory: Attempting to register factory for plugin cuFFT when one has already been registered\n",
      "2024-06-22 00:52:51.725801: E external/local_xla/xla/stream_executor/cuda/cuda_blas.cc:1515] Unable to register cuBLAS factory: Attempting to register factory for plugin cuBLAS when one has already been registered\n"
     ]
    }
   ],
   "source": [
    "def text_prep(x):\n",
    "    return x\n",
    "import aes2_preproces_cache_vectorize\n",
    "TUNE = False"
   ]
  },
  {
   "cell_type": "code",
   "execution_count": 4,
   "id": "df265e1b",
   "metadata": {
    "execution": {
     "iopub.execute_input": "2024-06-22T00:53:05.722735Z",
     "iopub.status.busy": "2024-06-22T00:53:05.722206Z",
     "iopub.status.idle": "2024-06-22T00:53:06.183500Z",
     "shell.execute_reply": "2024-06-22T00:53:06.182660Z"
    },
    "papermill": {
     "duration": 0.477464,
     "end_time": "2024-06-22T00:53:06.185709",
     "exception": false,
     "start_time": "2024-06-22T00:53:05.708245",
     "status": "completed"
    },
    "tags": []
   },
   "outputs": [
    {
     "data": {
      "text/plain": [
       "287"
      ]
     },
     "execution_count": 4,
     "metadata": {},
     "output_type": "execute_result"
    }
   ],
   "source": [
    "import gc\n",
    "\n",
    "gc.collect()"
   ]
  },
  {
   "cell_type": "code",
   "execution_count": 5,
   "id": "40b3c92f",
   "metadata": {
    "execution": {
     "iopub.execute_input": "2024-06-22T00:53:06.213771Z",
     "iopub.status.busy": "2024-06-22T00:53:06.213091Z",
     "iopub.status.idle": "2024-06-22T00:53:06.218670Z",
     "shell.execute_reply": "2024-06-22T00:53:06.217839Z"
    },
    "papermill": {
     "duration": 0.021377,
     "end_time": "2024-06-22T00:53:06.220522",
     "exception": false,
     "start_time": "2024-06-22T00:53:06.199145",
     "status": "completed"
    },
    "tags": []
   },
   "outputs": [
    {
     "data": {
      "text/plain": [
       "2.998"
      ]
     },
     "execution_count": 5,
     "metadata": {},
     "output_type": "execute_result"
    }
   ],
   "source": [
    "aes2_preproces_cache_vectorize.a"
   ]
  },
  {
   "cell_type": "code",
   "execution_count": 6,
   "id": "394de5fc",
   "metadata": {
    "_cell_guid": "b1076dfc-b9ad-4769-8c92-a6c4dae69d19",
    "_uuid": "8f2839f25d086af736a60e9eeb907d3b93b6e0e5",
    "execution": {
     "iopub.execute_input": "2024-06-22T00:53:06.248447Z",
     "iopub.status.busy": "2024-06-22T00:53:06.247948Z",
     "iopub.status.idle": "2024-06-22T00:53:36.796187Z",
     "shell.execute_reply": "2024-06-22T00:53:36.795311Z"
    },
    "papermill": {
     "duration": 30.564839,
     "end_time": "2024-06-22T00:53:36.798661",
     "exception": false,
     "start_time": "2024-06-22T00:53:06.233822",
     "status": "completed"
    },
    "tags": []
   },
   "outputs": [],
   "source": [
    "import pickle\n",
    "\n",
    "with open(\"/kaggle/usr/lib/aes2-added-fb-prize-as-features-preprocessing/train_feats.pickle\", \"rb\") as f:\n",
    "    train_feats = pickle.load(f)\n",
    "with open(\"/kaggle/usr/lib/aes2-added-fb-prize-as-features-preprocessing/X.pickle\", \"rb\") as f:\n",
    "    X = pickle.load(f)\n",
    "with open(\"/kaggle/usr/lib/aes2-added-fb-prize-as-features-preprocessing/y.pickle\", \"rb\") as f:\n",
    "    y = pickle.load(f)\n",
    "with open(\"/kaggle/usr/lib/aes2-added-fb-prize-as-features-preprocessing/y_split.pickle\", \"rb\") as f:\n",
    "    y_split = pickle.load(f)\n",
    "with open(\n",
    "    \"/kaggle/input/aes2-eval-added-fb-prize-as-features-8168c5/feature_select.pickle\", \"rb\"\n",
    ") as f:\n",
    "    feature_select = pickle.load(f)\n",
    "    \n",
    "aes2_preproces_cache_vectorize.feature_select = feature_select"
   ]
  },
  {
   "cell_type": "code",
   "execution_count": 7,
   "id": "9699e0b9",
   "metadata": {
    "execution": {
     "iopub.execute_input": "2024-06-22T00:53:36.828778Z",
     "iopub.status.busy": "2024-06-22T00:53:36.828439Z",
     "iopub.status.idle": "2024-06-22T00:53:40.282551Z",
     "shell.execute_reply": "2024-06-22T00:53:40.281756Z"
    },
    "papermill": {
     "duration": 3.471208,
     "end_time": "2024-06-22T00:53:40.284813",
     "exception": false,
     "start_time": "2024-06-22T00:53:36.813605",
     "status": "completed"
    },
    "tags": []
   },
   "outputs": [],
   "source": [
    "import numpy as np\n",
    "\n",
    "# X = train_feats[feature_select + [\"max_repeated_word_count\"]].astype(np.float32).values\n",
    "X = train_feats[feature_select].astype(np.float32).values"
   ]
  },
  {
   "cell_type": "code",
   "execution_count": 8,
   "id": "55f0f08f",
   "metadata": {
    "execution": {
     "iopub.execute_input": "2024-06-22T00:53:40.314571Z",
     "iopub.status.busy": "2024-06-22T00:53:40.314236Z",
     "iopub.status.idle": "2024-06-22T00:53:40.318402Z",
     "shell.execute_reply": "2024-06-22T00:53:40.317545Z"
    },
    "papermill": {
     "duration": 0.021392,
     "end_time": "2024-06-22T00:53:40.320372",
     "exception": false,
     "start_time": "2024-06-22T00:53:40.298980",
     "status": "completed"
    },
    "tags": []
   },
   "outputs": [],
   "source": [
    "# Initial please see threshold optimization\n",
    "thresholds = [1.5, 2.6, 3.5, 4.59, 5.55]"
   ]
  },
  {
   "cell_type": "code",
   "execution_count": 9,
   "id": "f75431c2",
   "metadata": {
    "execution": {
     "iopub.execute_input": "2024-06-22T00:53:40.350746Z",
     "iopub.status.busy": "2024-06-22T00:53:40.350417Z",
     "iopub.status.idle": "2024-06-22T01:41:04.101295Z",
     "shell.execute_reply": "2024-06-22T01:41:04.100305Z"
    },
    "papermill": {
     "duration": 2843.769044,
     "end_time": "2024-06-22T01:41:04.103515",
     "exception": false,
     "start_time": "2024-06-22T00:53:40.334471",
     "status": "completed"
    },
    "tags": []
   },
   "outputs": [
    {
     "name": "stdout",
     "output_type": "stream",
     "text": [
      "fold 1\n"
     ]
    },
    {
     "name": "stderr",
     "output_type": "stream",
     "text": [
      "1 warning generated.\n",
      "1 warning generated.\n",
      "1 warning generated.\n",
      "1 warning generated.\n",
      "1 warning generated.\n",
      "1 warning generated.\n",
      "1 warning generated.\n",
      "1 warning generated.\n",
      "1 warning generated.\n",
      "1 warning generated.\n",
      "1 warning generated.\n",
      "1 warning generated.\n",
      "1 warning generated.\n",
      "1 warning generated.\n",
      "1 warning generated.\n",
      "1 warning generated.\n",
      "1 warning generated.\n",
      "1 warning generated.\n",
      "1 warning generated.\n",
      "1 warning generated.\n",
      "1 warning generated.\n",
      "1 warning generated.\n",
      "1 warning generated.\n",
      "1 warning generated.\n",
      "1 warning generated.\n",
      "1 warning generated.\n",
      "1 warning generated.\n",
      "1 warning generated.\n",
      "1 warning generated.\n",
      "1 warning generated.\n",
      "1 warning generated.\n",
      "1 warning generated.\n",
      "1 warning generated.\n"
     ]
    },
    {
     "name": "stdout",
     "output_type": "stream",
     "text": [
      "[LightGBM] [Info] Using self-defined objective function\n",
      "Training until validation scores don't improve for 75 rounds\n",
      "[100]\ttrain's QWK: 0.842451\tvalid's QWK: 0.83494\n",
      "[200]\ttrain's QWK: 0.85166\tvalid's QWK: 0.838492\n",
      "Early stopping, best iteration is:\n",
      "[182]\ttrain's QWK: 0.850534\tvalid's QWK: 0.840882\n",
      "Evaluated only: QWK\n",
      "Light best iter: 182\n"
     ]
    },
    {
     "name": "stderr",
     "output_type": "stream",
     "text": [
      "/opt/conda/lib/python3.10/site-packages/xgboost/sklearn.py:889: UserWarning: `eval_metric` in `fit` method is deprecated for better compatibility with scikit-learn, use `eval_metric` in constructor or`set_params` instead.\n",
      "  warnings.warn(\n",
      "/opt/conda/lib/python3.10/site-packages/xgboost/sklearn.py:889: UserWarning: `callbacks` in `fit` method is deprecated for better compatibility with scikit-learn, use `callbacks` in constructor or`set_params` instead.\n",
      "  warnings.warn(\n"
     ]
    },
    {
     "name": "stdout",
     "output_type": "stream",
     "text": [
      "[0]\tvalidation_0-rmse:1.07711\tvalidation_0-QWK:0.46000\tvalidation_1-rmse:1.08584\tvalidation_1-QWK:0.41585\n",
      "[0]\tvalidation_0-rmse:1.07711\tvalidation_0-QWK:0.46000\tvalidation_1-rmse:1.08584\tvalidation_1-QWK:0.41585\n",
      "[100]\tvalidation_0-rmse:0.26241\tvalidation_0-QWK:0.96755\tvalidation_1-rmse:0.53433\tvalidation_1-QWK:0.83744\n",
      "[100]\tvalidation_0-rmse:0.26241\tvalidation_0-QWK:0.96755\tvalidation_1-rmse:0.53433\tvalidation_1-QWK:0.83744\n",
      "XGBoost best iter: 48\n"
     ]
    },
    {
     "data": {
      "image/png": "[encoded data removed]",
      "text/plain": [
       "<Figure size 640x480 with 2 Axes>"
      ]
     },
     "metadata": {},
     "output_type": "display_data"
    },
    {
     "name": "stdout",
     "output_type": "stream",
     "text": [
      "F1 score across fold: 0.6734534006978468\n",
      "Cohen kappa score across fold: 0.8391475178021311\n",
      "fold 2\n",
      "[LightGBM] [Info] Using self-defined objective function\n",
      "Training until validation scores don't improve for 75 rounds\n",
      "[100]\ttrain's QWK: 0.840119\tvalid's QWK: 0.833659\n",
      "Early stopping, best iteration is:\n",
      "[96]\ttrain's QWK: 0.839486\tvalid's QWK: 0.835818\n",
      "Evaluated only: QWK\n",
      "Light best iter: 96\n"
     ]
    },
    {
     "name": "stderr",
     "output_type": "stream",
     "text": [
      "/opt/conda/lib/python3.10/site-packages/xgboost/sklearn.py:889: UserWarning: `eval_metric` in `fit` method is deprecated for better compatibility with scikit-learn, use `eval_metric` in constructor or`set_params` instead.\n",
      "  warnings.warn(\n",
      "/opt/conda/lib/python3.10/site-packages/xgboost/sklearn.py:889: UserWarning: `callbacks` in `fit` method is deprecated for better compatibility with scikit-learn, use `callbacks` in constructor or`set_params` instead.\n",
      "  warnings.warn(\n"
     ]
    },
    {
     "name": "stdout",
     "output_type": "stream",
     "text": [
      "[0]\tvalidation_0-rmse:1.07726\tvalidation_0-QWK:0.46175\tvalidation_1-rmse:1.08033\tvalidation_1-QWK:0.43017\n",
      "[0]\tvalidation_0-rmse:1.07726\tvalidation_0-QWK:0.46175\tvalidation_1-rmse:1.08033\tvalidation_1-QWK:0.43017\n",
      "[100]\tvalidation_0-rmse:0.25596\tvalidation_0-QWK:0.96975\tvalidation_1-rmse:0.52075\tvalidation_1-QWK:0.83942\n",
      "[100]\tvalidation_0-rmse:0.25596\tvalidation_0-QWK:0.96975\tvalidation_1-rmse:0.52075\tvalidation_1-QWK:0.83942\n",
      "[200]\tvalidation_0-rmse:0.16796\tvalidation_0-QWK:0.99690\tvalidation_1-rmse:0.52003\tvalidation_1-QWK:0.84020\n",
      "[200]\tvalidation_0-rmse:0.16796\tvalidation_0-QWK:0.99690\tvalidation_1-rmse:0.52003\tvalidation_1-QWK:0.84020\n",
      "XGBoost best iter: 141\n"
     ]
    },
    {
     "data": {
      "image/png": "[encoded data removed]",
      "text/plain": [
       "<Figure size 640x480 with 2 Axes>"
      ]
     },
     "metadata": {},
     "output_type": "display_data"
    },
    {
     "name": "stdout",
     "output_type": "stream",
     "text": [
      "F1 score across fold: 0.6461195592820508\n",
      "Cohen kappa score across fold: 0.8285096319792926\n",
      "fold 3\n",
      "[LightGBM] [Info] Using self-defined objective function\n",
      "Training until validation scores don't improve for 75 rounds\n",
      "[100]\ttrain's QWK: 0.841247\tvalid's QWK: 0.822065\n",
      "[200]\ttrain's QWK: 0.850225\tvalid's QWK: 0.829256\n",
      "Early stopping, best iteration is:\n",
      "[189]\ttrain's QWK: 0.84939\tvalid's QWK: 0.831476\n",
      "Evaluated only: QWK\n",
      "Light best iter: 189\n"
     ]
    },
    {
     "name": "stderr",
     "output_type": "stream",
     "text": [
      "/opt/conda/lib/python3.10/site-packages/xgboost/sklearn.py:889: UserWarning: `eval_metric` in `fit` method is deprecated for better compatibility with scikit-learn, use `eval_metric` in constructor or`set_params` instead.\n",
      "  warnings.warn(\n",
      "/opt/conda/lib/python3.10/site-packages/xgboost/sklearn.py:889: UserWarning: `callbacks` in `fit` method is deprecated for better compatibility with scikit-learn, use `callbacks` in constructor or`set_params` instead.\n",
      "  warnings.warn(\n"
     ]
    },
    {
     "name": "stdout",
     "output_type": "stream",
     "text": [
      "[0]\tvalidation_0-rmse:1.07708\tvalidation_0-QWK:0.45399\tvalidation_1-rmse:1.08294\tvalidation_1-QWK:0.41607\n",
      "[0]\tvalidation_0-rmse:1.07708\tvalidation_0-QWK:0.45399\tvalidation_1-rmse:1.08294\tvalidation_1-QWK:0.41607\n",
      "[100]\tvalidation_0-rmse:0.25385\tvalidation_0-QWK:0.97096\tvalidation_1-rmse:0.54384\tvalidation_1-QWK:0.83853\n",
      "[100]\tvalidation_0-rmse:0.25385\tvalidation_0-QWK:0.97096\tvalidation_1-rmse:0.54384\tvalidation_1-QWK:0.83853\n",
      "XGBoost best iter: 61\n"
     ]
    },
    {
     "data": {
      "image/png": "[encoded data removed]",
      "text/plain": [
       "<Figure size 640x480 with 2 Axes>"
      ]
     },
     "metadata": {},
     "output_type": "display_data"
    },
    {
     "name": "stdout",
     "output_type": "stream",
     "text": [
      "F1 score across fold: 0.6420448272420193\n",
      "Cohen kappa score across fold: 0.8257118341919157\n",
      "fold 4\n",
      "[LightGBM] [Info] Using self-defined objective function\n",
      "Training until validation scores don't improve for 75 rounds\n",
      "[100]\ttrain's QWK: 0.840717\tvalid's QWK: 0.828149\n",
      "[200]\ttrain's QWK: 0.851754\tvalid's QWK: 0.83261\n",
      "Early stopping, best iteration is:\n",
      "[170]\ttrain's QWK: 0.849129\tvalid's QWK: 0.833104\n",
      "Evaluated only: QWK\n",
      "Light best iter: 170\n"
     ]
    },
    {
     "name": "stderr",
     "output_type": "stream",
     "text": [
      "/opt/conda/lib/python3.10/site-packages/xgboost/sklearn.py:889: UserWarning: `eval_metric` in `fit` method is deprecated for better compatibility with scikit-learn, use `eval_metric` in constructor or`set_params` instead.\n",
      "  warnings.warn(\n",
      "/opt/conda/lib/python3.10/site-packages/xgboost/sklearn.py:889: UserWarning: `callbacks` in `fit` method is deprecated for better compatibility with scikit-learn, use `callbacks` in constructor or`set_params` instead.\n",
      "  warnings.warn(\n"
     ]
    },
    {
     "name": "stdout",
     "output_type": "stream",
     "text": [
      "[0]\tvalidation_0-rmse:1.07722\tvalidation_0-QWK:0.45261\tvalidation_1-rmse:1.08320\tvalidation_1-QWK:0.42008\n",
      "[0]\tvalidation_0-rmse:1.07722\tvalidation_0-QWK:0.45261\tvalidation_1-rmse:1.08320\tvalidation_1-QWK:0.42008\n",
      "[100]\tvalidation_0-rmse:0.25393\tvalidation_0-QWK:0.97177\tvalidation_1-rmse:0.52245\tvalidation_1-QWK:0.83788\n",
      "[100]\tvalidation_0-rmse:0.25393\tvalidation_0-QWK:0.97177\tvalidation_1-rmse:0.52245\tvalidation_1-QWK:0.83788\n",
      "XGBoost best iter: 37\n"
     ]
    },
    {
     "data": {
      "image/png": "[encoded data removed]",
      "text/plain": [
       "<Figure size 640x480 with 2 Axes>"
      ]
     },
     "metadata": {},
     "output_type": "display_data"
    },
    {
     "name": "stdout",
     "output_type": "stream",
     "text": [
      "F1 score across fold: 0.6541689090313803\n",
      "Cohen kappa score across fold: 0.8316253209384683\n",
      "fold 5\n",
      "[LightGBM] [Info] Using self-defined objective function\n",
      "Training until validation scores don't improve for 75 rounds\n",
      "[100]\ttrain's QWK: 0.838753\tvalid's QWK: 0.831557\n",
      "[200]\ttrain's QWK: 0.850346\tvalid's QWK: 0.835841\n",
      "Early stopping, best iteration is:\n",
      "[162]\ttrain's QWK: 0.846758\tvalid's QWK: 0.837099\n",
      "Evaluated only: QWK\n",
      "Light best iter: 162\n"
     ]
    },
    {
     "name": "stderr",
     "output_type": "stream",
     "text": [
      "/opt/conda/lib/python3.10/site-packages/xgboost/sklearn.py:889: UserWarning: `eval_metric` in `fit` method is deprecated for better compatibility with scikit-learn, use `eval_metric` in constructor or`set_params` instead.\n",
      "  warnings.warn(\n",
      "/opt/conda/lib/python3.10/site-packages/xgboost/sklearn.py:889: UserWarning: `callbacks` in `fit` method is deprecated for better compatibility with scikit-learn, use `callbacks` in constructor or`set_params` instead.\n",
      "  warnings.warn(\n"
     ]
    },
    {
     "name": "stdout",
     "output_type": "stream",
     "text": [
      "[0]\tvalidation_0-rmse:1.07685\tvalidation_0-QWK:0.45608\tvalidation_1-rmse:1.08705\tvalidation_1-QWK:0.43122\n",
      "[0]\tvalidation_0-rmse:1.07685\tvalidation_0-QWK:0.45608\tvalidation_1-rmse:1.08705\tvalidation_1-QWK:0.43122\n",
      "[100]\tvalidation_0-rmse:0.25415\tvalidation_0-QWK:0.97104\tvalidation_1-rmse:0.54756\tvalidation_1-QWK:0.81094\n",
      "[100]\tvalidation_0-rmse:0.25415\tvalidation_0-QWK:0.97104\tvalidation_1-rmse:0.54756\tvalidation_1-QWK:0.81094\n",
      "XGBoost best iter: 28\n"
     ]
    },
    {
     "data": {
      "image/png": "[encoded data removed]",
      "text/plain": [
       "<Figure size 640x480 with 2 Axes>"
      ]
     },
     "metadata": {},
     "output_type": "display_data"
    },
    {
     "name": "stdout",
     "output_type": "stream",
     "text": [
      "F1 score across fold: 0.6634612811146884\n",
      "Cohen kappa score across fold: 0.8239553044719652\n",
      "fold 6\n",
      "[LightGBM] [Info] Using self-defined objective function\n",
      "Training until validation scores don't improve for 75 rounds\n",
      "[100]\ttrain's QWK: 0.839245\tvalid's QWK: 0.848985\n",
      "[200]\ttrain's QWK: 0.849022\tvalid's QWK: 0.850791\n",
      "[300]\ttrain's QWK: 0.855733\tvalid's QWK: 0.853946\n",
      "[400]\ttrain's QWK: 0.863258\tvalid's QWK: 0.853832\n",
      "Early stopping, best iteration is:\n",
      "[340]\ttrain's QWK: 0.859178\tvalid's QWK: 0.856611\n",
      "Evaluated only: QWK\n",
      "Light best iter: 340\n"
     ]
    },
    {
     "name": "stderr",
     "output_type": "stream",
     "text": [
      "/opt/conda/lib/python3.10/site-packages/xgboost/sklearn.py:889: UserWarning: `eval_metric` in `fit` method is deprecated for better compatibility with scikit-learn, use `eval_metric` in constructor or`set_params` instead.\n",
      "  warnings.warn(\n",
      "/opt/conda/lib/python3.10/site-packages/xgboost/sklearn.py:889: UserWarning: `callbacks` in `fit` method is deprecated for better compatibility with scikit-learn, use `callbacks` in constructor or`set_params` instead.\n",
      "  warnings.warn(\n"
     ]
    },
    {
     "name": "stdout",
     "output_type": "stream",
     "text": [
      "[0]\tvalidation_0-rmse:1.07703\tvalidation_0-QWK:0.45430\tvalidation_1-rmse:1.08632\tvalidation_1-QWK:0.41502\n",
      "[0]\tvalidation_0-rmse:1.07703\tvalidation_0-QWK:0.45430\tvalidation_1-rmse:1.08632\tvalidation_1-QWK:0.41502\n",
      "[100]\tvalidation_0-rmse:0.26387\tvalidation_0-QWK:0.96720\tvalidation_1-rmse:0.52982\tvalidation_1-QWK:0.82806\n",
      "[100]\tvalidation_0-rmse:0.26387\tvalidation_0-QWK:0.96720\tvalidation_1-rmse:0.52982\tvalidation_1-QWK:0.82806\n",
      "XGBoost best iter: 31\n"
     ]
    },
    {
     "data": {
      "image/png": "[encoded data removed]",
      "text/plain": [
       "<Figure size 640x480 with 2 Axes>"
      ]
     },
     "metadata": {},
     "output_type": "display_data"
    },
    {
     "name": "stdout",
     "output_type": "stream",
     "text": [
      "F1 score across fold: 0.697007299524273\n",
      "Cohen kappa score across fold: 0.8500629017289383\n",
      "fold 7\n",
      "[LightGBM] [Info] Using self-defined objective function\n",
      "Training until validation scores don't improve for 75 rounds\n",
      "[100]\ttrain's QWK: 0.843219\tvalid's QWK: 0.822273\n",
      "[200]\ttrain's QWK: 0.851815\tvalid's QWK: 0.827684\n",
      "[300]\ttrain's QWK: 0.859052\tvalid's QWK: 0.829878\n",
      "Early stopping, best iteration is:\n",
      "[284]\ttrain's QWK: 0.857609\tvalid's QWK: 0.830527\n",
      "Evaluated only: QWK\n",
      "Light best iter: 284\n"
     ]
    },
    {
     "name": "stderr",
     "output_type": "stream",
     "text": [
      "/opt/conda/lib/python3.10/site-packages/xgboost/sklearn.py:889: UserWarning: `eval_metric` in `fit` method is deprecated for better compatibility with scikit-learn, use `eval_metric` in constructor or`set_params` instead.\n",
      "  warnings.warn(\n",
      "/opt/conda/lib/python3.10/site-packages/xgboost/sklearn.py:889: UserWarning: `callbacks` in `fit` method is deprecated for better compatibility with scikit-learn, use `callbacks` in constructor or`set_params` instead.\n",
      "  warnings.warn(\n"
     ]
    },
    {
     "name": "stdout",
     "output_type": "stream",
     "text": [
      "[0]\tvalidation_0-rmse:1.07643\tvalidation_0-QWK:0.46304\tvalidation_1-rmse:1.08719\tvalidation_1-QWK:0.43030\n",
      "[0]\tvalidation_0-rmse:1.07643\tvalidation_0-QWK:0.46304\tvalidation_1-rmse:1.08719\tvalidation_1-QWK:0.43030\n",
      "[100]\tvalidation_0-rmse:0.26173\tvalidation_0-QWK:0.96814\tvalidation_1-rmse:0.55124\tvalidation_1-QWK:0.82127\n",
      "[100]\tvalidation_0-rmse:0.26173\tvalidation_0-QWK:0.96814\tvalidation_1-rmse:0.55124\tvalidation_1-QWK:0.82127\n",
      "XGBoost best iter: 96\n"
     ]
    },
    {
     "data": {
      "image/png": "[encoded data removed]",
      "text/plain": [
       "<Figure size 640x480 with 2 Axes>"
      ]
     },
     "metadata": {},
     "output_type": "display_data"
    },
    {
     "name": "stdout",
     "output_type": "stream",
     "text": [
      "F1 score across fold: 0.6674870371764602\n",
      "Cohen kappa score across fold: 0.8263916442627268\n",
      "fold 8\n",
      "[LightGBM] [Info] Using self-defined objective function\n",
      "Training until validation scores don't improve for 75 rounds\n",
      "[100]\ttrain's QWK: 0.841334\tvalid's QWK: 0.837031\n",
      "Early stopping, best iteration is:\n",
      "[107]\ttrain's QWK: 0.842443\tvalid's QWK: 0.838703\n",
      "Evaluated only: QWK\n",
      "Light best iter: 107\n"
     ]
    },
    {
     "name": "stderr",
     "output_type": "stream",
     "text": [
      "/opt/conda/lib/python3.10/site-packages/xgboost/sklearn.py:889: UserWarning: `eval_metric` in `fit` method is deprecated for better compatibility with scikit-learn, use `eval_metric` in constructor or`set_params` instead.\n",
      "  warnings.warn(\n",
      "/opt/conda/lib/python3.10/site-packages/xgboost/sklearn.py:889: UserWarning: `callbacks` in `fit` method is deprecated for better compatibility with scikit-learn, use `callbacks` in constructor or`set_params` instead.\n",
      "  warnings.warn(\n"
     ]
    },
    {
     "name": "stdout",
     "output_type": "stream",
     "text": [
      "[0]\tvalidation_0-rmse:1.07653\tvalidation_0-QWK:0.45454\tvalidation_1-rmse:1.08972\tvalidation_1-QWK:0.41025\n",
      "[0]\tvalidation_0-rmse:1.07653\tvalidation_0-QWK:0.45454\tvalidation_1-rmse:1.08972\tvalidation_1-QWK:0.41025\n",
      "[100]\tvalidation_0-rmse:0.25518\tvalidation_0-QWK:0.96991\tvalidation_1-rmse:0.53086\tvalidation_1-QWK:0.82479\n",
      "[100]\tvalidation_0-rmse:0.25518\tvalidation_0-QWK:0.96991\tvalidation_1-rmse:0.53086\tvalidation_1-QWK:0.82479\n",
      "XGBoost best iter: 72\n"
     ]
    },
    {
     "data": {
      "image/png": "[encoded data removed]",
      "text/plain": [
       "<Figure size 640x480 with 2 Axes>"
      ]
     },
     "metadata": {},
     "output_type": "display_data"
    },
    {
     "name": "stdout",
     "output_type": "stream",
     "text": [
      "F1 score across fold: 0.6814198095685632\n",
      "Cohen kappa score across fold: 0.8349248557829159\n",
      "fold 9\n",
      "[LightGBM] [Info] Using self-defined objective function\n",
      "Training until validation scores don't improve for 75 rounds\n",
      "[100]\ttrain's QWK: 0.840634\tvalid's QWK: 0.830266\n",
      "[200]\ttrain's QWK: 0.851333\tvalid's QWK: 0.833513\n",
      "[300]\ttrain's QWK: 0.858895\tvalid's QWK: 0.836282\n",
      "Early stopping, best iteration is:\n",
      "[257]\ttrain's QWK: 0.85565\tvalid's QWK: 0.837497\n",
      "Evaluated only: QWK\n",
      "Light best iter: 257\n"
     ]
    },
    {
     "name": "stderr",
     "output_type": "stream",
     "text": [
      "/opt/conda/lib/python3.10/site-packages/xgboost/sklearn.py:889: UserWarning: `eval_metric` in `fit` method is deprecated for better compatibility with scikit-learn, use `eval_metric` in constructor or`set_params` instead.\n",
      "  warnings.warn(\n",
      "/opt/conda/lib/python3.10/site-packages/xgboost/sklearn.py:889: UserWarning: `callbacks` in `fit` method is deprecated for better compatibility with scikit-learn, use `callbacks` in constructor or`set_params` instead.\n",
      "  warnings.warn(\n"
     ]
    },
    {
     "name": "stdout",
     "output_type": "stream",
     "text": [
      "[0]\tvalidation_0-rmse:1.07672\tvalidation_0-QWK:0.45494\tvalidation_1-rmse:1.08629\tvalidation_1-QWK:0.42117\n",
      "[0]\tvalidation_0-rmse:1.07672\tvalidation_0-QWK:0.45494\tvalidation_1-rmse:1.08629\tvalidation_1-QWK:0.42117\n",
      "[100]\tvalidation_0-rmse:0.25753\tvalidation_0-QWK:0.96993\tvalidation_1-rmse:0.54878\tvalidation_1-QWK:0.81285\n",
      "[100]\tvalidation_0-rmse:0.25753\tvalidation_0-QWK:0.96993\tvalidation_1-rmse:0.54878\tvalidation_1-QWK:0.81285\n",
      "XGBoost best iter: 56\n"
     ]
    },
    {
     "data": {
      "image/png": "[encoded data removed]",
      "text/plain": [
       "<Figure size 640x480 with 2 Axes>"
      ]
     },
     "metadata": {},
     "output_type": "display_data"
    },
    {
     "name": "stdout",
     "output_type": "stream",
     "text": [
      "F1 score across fold: 0.6757228749231403\n",
      "Cohen kappa score across fold: 0.8350191214839702\n",
      "fold 10\n",
      "[LightGBM] [Info] Using self-defined objective function\n",
      "Training until validation scores don't improve for 75 rounds\n",
      "[100]\ttrain's QWK: 0.842075\tvalid's QWK: 0.836067\n",
      "[200]\ttrain's QWK: 0.852081\tvalid's QWK: 0.839499\n",
      "Early stopping, best iteration is:\n",
      "[211]\ttrain's QWK: 0.852649\tvalid's QWK: 0.840195\n",
      "Evaluated only: QWK\n",
      "Light best iter: 211\n"
     ]
    },
    {
     "name": "stderr",
     "output_type": "stream",
     "text": [
      "/opt/conda/lib/python3.10/site-packages/xgboost/sklearn.py:889: UserWarning: `eval_metric` in `fit` method is deprecated for better compatibility with scikit-learn, use `eval_metric` in constructor or`set_params` instead.\n",
      "  warnings.warn(\n",
      "/opt/conda/lib/python3.10/site-packages/xgboost/sklearn.py:889: UserWarning: `callbacks` in `fit` method is deprecated for better compatibility with scikit-learn, use `callbacks` in constructor or`set_params` instead.\n",
      "  warnings.warn(\n"
     ]
    },
    {
     "name": "stdout",
     "output_type": "stream",
     "text": [
      "[0]\tvalidation_0-rmse:1.07672\tvalidation_0-QWK:0.45296\tvalidation_1-rmse:1.08391\tvalidation_1-QWK:0.42791\n",
      "[0]\tvalidation_0-rmse:1.07672\tvalidation_0-QWK:0.45296\tvalidation_1-rmse:1.08391\tvalidation_1-QWK:0.42791\n",
      "[100]\tvalidation_0-rmse:0.25895\tvalidation_0-QWK:0.96911\tvalidation_1-rmse:0.52700\tvalidation_1-QWK:0.83094\n",
      "[100]\tvalidation_0-rmse:0.25895\tvalidation_0-QWK:0.96911\tvalidation_1-rmse:0.52700\tvalidation_1-QWK:0.83094\n",
      "XGBoost best iter: 26\n"
     ]
    },
    {
     "data": {
      "image/png": "[encoded data removed]",
      "text/plain": [
       "<Figure size 640x480 with 2 Axes>"
      ]
     },
     "metadata": {},
     "output_type": "display_data"
    },
    {
     "name": "stdout",
     "output_type": "stream",
     "text": [
      "F1 score across fold: 0.6780663869763073\n",
      "Cohen kappa score across fold: 0.8407023508874222\n",
      "fold 11\n",
      "[LightGBM] [Info] Using self-defined objective function\n",
      "Training until validation scores don't improve for 75 rounds\n",
      "[100]\ttrain's QWK: 0.839568\tvalid's QWK: 0.836976\n",
      "Early stopping, best iteration is:\n",
      "[91]\ttrain's QWK: 0.838248\tvalid's QWK: 0.838494\n",
      "Evaluated only: QWK\n",
      "Light best iter: 91\n"
     ]
    },
    {
     "name": "stderr",
     "output_type": "stream",
     "text": [
      "/opt/conda/lib/python3.10/site-packages/xgboost/sklearn.py:889: UserWarning: `eval_metric` in `fit` method is deprecated for better compatibility with scikit-learn, use `eval_metric` in constructor or`set_params` instead.\n",
      "  warnings.warn(\n",
      "/opt/conda/lib/python3.10/site-packages/xgboost/sklearn.py:889: UserWarning: `callbacks` in `fit` method is deprecated for better compatibility with scikit-learn, use `callbacks` in constructor or`set_params` instead.\n",
      "  warnings.warn(\n"
     ]
    },
    {
     "name": "stdout",
     "output_type": "stream",
     "text": [
      "[0]\tvalidation_0-rmse:1.07658\tvalidation_0-QWK:0.45670\tvalidation_1-rmse:1.08376\tvalidation_1-QWK:0.44816\n",
      "[0]\tvalidation_0-rmse:1.07658\tvalidation_0-QWK:0.45670\tvalidation_1-rmse:1.08376\tvalidation_1-QWK:0.44816\n",
      "[100]\tvalidation_0-rmse:0.25650\tvalidation_0-QWK:0.96938\tvalidation_1-rmse:0.53095\tvalidation_1-QWK:0.83270\n",
      "[100]\tvalidation_0-rmse:0.25650\tvalidation_0-QWK:0.96938\tvalidation_1-rmse:0.53095\tvalidation_1-QWK:0.83270\n",
      "XGBoost best iter: 47\n"
     ]
    },
    {
     "data": {
      "image/png": "[encoded data removed]",
      "text/plain": [
       "<Figure size 640x480 with 2 Axes>"
      ]
     },
     "metadata": {},
     "output_type": "display_data"
    },
    {
     "name": "stdout",
     "output_type": "stream",
     "text": [
      "F1 score across fold: 0.6790557414556113\n",
      "Cohen kappa score across fold: 0.8386513467173569\n",
      "fold 12\n",
      "[LightGBM] [Info] Using self-defined objective function\n",
      "Training until validation scores don't improve for 75 rounds\n",
      "[100]\ttrain's QWK: 0.84083\tvalid's QWK: 0.834801\n",
      "Early stopping, best iteration is:\n",
      "[107]\ttrain's QWK: 0.841184\tvalid's QWK: 0.837949\n",
      "Evaluated only: QWK\n",
      "Light best iter: 107\n"
     ]
    },
    {
     "name": "stderr",
     "output_type": "stream",
     "text": [
      "/opt/conda/lib/python3.10/site-packages/xgboost/sklearn.py:889: UserWarning: `eval_metric` in `fit` method is deprecated for better compatibility with scikit-learn, use `eval_metric` in constructor or`set_params` instead.\n",
      "  warnings.warn(\n",
      "/opt/conda/lib/python3.10/site-packages/xgboost/sklearn.py:889: UserWarning: `callbacks` in `fit` method is deprecated for better compatibility with scikit-learn, use `callbacks` in constructor or`set_params` instead.\n",
      "  warnings.warn(\n"
     ]
    },
    {
     "name": "stdout",
     "output_type": "stream",
     "text": [
      "[0]\tvalidation_0-rmse:1.07716\tvalidation_0-QWK:0.44465\tvalidation_1-rmse:1.08296\tvalidation_1-QWK:0.41276\n",
      "[0]\tvalidation_0-rmse:1.07716\tvalidation_0-QWK:0.44465\tvalidation_1-rmse:1.08296\tvalidation_1-QWK:0.41276\n",
      "[100]\tvalidation_0-rmse:0.25599\tvalidation_0-QWK:0.97038\tvalidation_1-rmse:0.52551\tvalidation_1-QWK:0.83290\n",
      "[100]\tvalidation_0-rmse:0.25599\tvalidation_0-QWK:0.97038\tvalidation_1-rmse:0.52551\tvalidation_1-QWK:0.83290\n",
      "XGBoost best iter: 66\n"
     ]
    },
    {
     "data": {
      "image/png": "[encoded data removed]",
      "text/plain": [
       "<Figure size 640x480 with 2 Axes>"
      ]
     },
     "metadata": {},
     "output_type": "display_data"
    },
    {
     "name": "stdout",
     "output_type": "stream",
     "text": [
      "F1 score across fold: 0.6710558161696273\n",
      "Cohen kappa score across fold: 0.8313351556077098\n",
      "fold 13\n",
      "[LightGBM] [Info] Using self-defined objective function\n",
      "Training until validation scores don't improve for 75 rounds\n",
      "[100]\ttrain's QWK: 0.842298\tvalid's QWK: 0.823074\n",
      "Early stopping, best iteration is:\n",
      "[94]\ttrain's QWK: 0.84101\tvalid's QWK: 0.824666\n",
      "Evaluated only: QWK\n",
      "Light best iter: 94\n"
     ]
    },
    {
     "name": "stderr",
     "output_type": "stream",
     "text": [
      "/opt/conda/lib/python3.10/site-packages/xgboost/sklearn.py:889: UserWarning: `eval_metric` in `fit` method is deprecated for better compatibility with scikit-learn, use `eval_metric` in constructor or`set_params` instead.\n",
      "  warnings.warn(\n",
      "/opt/conda/lib/python3.10/site-packages/xgboost/sklearn.py:889: UserWarning: `callbacks` in `fit` method is deprecated for better compatibility with scikit-learn, use `callbacks` in constructor or`set_params` instead.\n",
      "  warnings.warn(\n"
     ]
    },
    {
     "name": "stdout",
     "output_type": "stream",
     "text": [
      "[0]\tvalidation_0-rmse:1.07712\tvalidation_0-QWK:0.45683\tvalidation_1-rmse:1.07926\tvalidation_1-QWK:0.43089\n",
      "[0]\tvalidation_0-rmse:1.07712\tvalidation_0-QWK:0.45683\tvalidation_1-rmse:1.07926\tvalidation_1-QWK:0.43089\n",
      "[100]\tvalidation_0-rmse:0.25818\tvalidation_0-QWK:0.96816\tvalidation_1-rmse:0.54459\tvalidation_1-QWK:0.81521\n",
      "[100]\tvalidation_0-rmse:0.25818\tvalidation_0-QWK:0.96816\tvalidation_1-rmse:0.54459\tvalidation_1-QWK:0.81521\n",
      "XGBoost best iter: 26\n"
     ]
    },
    {
     "data": {
      "image/png": "[encoded data removed]",
      "text/plain": [
       "<Figure size 640x480 with 2 Axes>"
      ]
     },
     "metadata": {},
     "output_type": "display_data"
    },
    {
     "name": "stdout",
     "output_type": "stream",
     "text": [
      "F1 score across fold: 0.6494516874870807\n",
      "Cohen kappa score across fold: 0.8228303700776121\n",
      "fold 14\n",
      "[LightGBM] [Info] Using self-defined objective function\n",
      "Training until validation scores don't improve for 75 rounds\n",
      "[100]\ttrain's QWK: 0.838643\tvalid's QWK: 0.848548\n",
      "[200]\ttrain's QWK: 0.848895\tvalid's QWK: 0.849287\n",
      "Early stopping, best iteration is:\n",
      "[159]\ttrain's QWK: 0.845382\tvalid's QWK: 0.851229\n",
      "Evaluated only: QWK\n",
      "Light best iter: 159\n"
     ]
    },
    {
     "name": "stderr",
     "output_type": "stream",
     "text": [
      "/opt/conda/lib/python3.10/site-packages/xgboost/sklearn.py:889: UserWarning: `eval_metric` in `fit` method is deprecated for better compatibility with scikit-learn, use `eval_metric` in constructor or`set_params` instead.\n",
      "  warnings.warn(\n",
      "/opt/conda/lib/python3.10/site-packages/xgboost/sklearn.py:889: UserWarning: `callbacks` in `fit` method is deprecated for better compatibility with scikit-learn, use `callbacks` in constructor or`set_params` instead.\n",
      "  warnings.warn(\n"
     ]
    },
    {
     "name": "stdout",
     "output_type": "stream",
     "text": [
      "[0]\tvalidation_0-rmse:1.07690\tvalidation_0-QWK:0.46005\tvalidation_1-rmse:1.07851\tvalidation_1-QWK:0.45870\n",
      "[0]\tvalidation_0-rmse:1.07690\tvalidation_0-QWK:0.46005\tvalidation_1-rmse:1.07851\tvalidation_1-QWK:0.45870\n",
      "[100]\tvalidation_0-rmse:0.25637\tvalidation_0-QWK:0.96970\tvalidation_1-rmse:0.51215\tvalidation_1-QWK:0.84243\n",
      "[100]\tvalidation_0-rmse:0.25637\tvalidation_0-QWK:0.96970\tvalidation_1-rmse:0.51215\tvalidation_1-QWK:0.84243\n",
      "XGBoost best iter: 51\n"
     ]
    },
    {
     "data": {
      "image/png": "[encoded data removed]",
      "text/plain": [
       "<Figure size 640x480 with 2 Axes>"
      ]
     },
     "metadata": {},
     "output_type": "display_data"
    },
    {
     "name": "stdout",
     "output_type": "stream",
     "text": [
      "F1 score across fold: 0.6858953878979419\n",
      "Cohen kappa score across fold: 0.8482254308760049\n",
      "fold 15\n",
      "[LightGBM] [Info] Using self-defined objective function\n",
      "Training until validation scores don't improve for 75 rounds\n",
      "[100]\ttrain's QWK: 0.83956\tvalid's QWK: 0.841156\n",
      "[200]\ttrain's QWK: 0.849707\tvalid's QWK: 0.844539\n",
      "Early stopping, best iteration is:\n",
      "[156]\ttrain's QWK: 0.845881\tvalid's QWK: 0.848732\n",
      "Evaluated only: QWK\n",
      "Light best iter: 156\n"
     ]
    },
    {
     "name": "stderr",
     "output_type": "stream",
     "text": [
      "/opt/conda/lib/python3.10/site-packages/xgboost/sklearn.py:889: UserWarning: `eval_metric` in `fit` method is deprecated for better compatibility with scikit-learn, use `eval_metric` in constructor or`set_params` instead.\n",
      "  warnings.warn(\n",
      "/opt/conda/lib/python3.10/site-packages/xgboost/sklearn.py:889: UserWarning: `callbacks` in `fit` method is deprecated for better compatibility with scikit-learn, use `callbacks` in constructor or`set_params` instead.\n",
      "  warnings.warn(\n"
     ]
    },
    {
     "name": "stdout",
     "output_type": "stream",
     "text": [
      "[0]\tvalidation_0-rmse:1.07704\tvalidation_0-QWK:0.45148\tvalidation_1-rmse:1.07537\tvalidation_1-QWK:0.43701\n",
      "[0]\tvalidation_0-rmse:1.07704\tvalidation_0-QWK:0.45148\tvalidation_1-rmse:1.07537\tvalidation_1-QWK:0.43701\n",
      "[100]\tvalidation_0-rmse:0.25736\tvalidation_0-QWK:0.97011\tvalidation_1-rmse:0.52391\tvalidation_1-QWK:0.84373\n",
      "[100]\tvalidation_0-rmse:0.25736\tvalidation_0-QWK:0.97011\tvalidation_1-rmse:0.52391\tvalidation_1-QWK:0.84373\n",
      "XGBoost best iter: 26\n"
     ]
    },
    {
     "data": {
      "image/png": "[encoded data removed]",
      "text/plain": [
       "<Figure size 640x480 with 2 Axes>"
      ]
     },
     "metadata": {},
     "output_type": "display_data"
    },
    {
     "name": "stdout",
     "output_type": "stream",
     "text": [
      "F1 score across fold: 0.6843741076381008\n",
      "Cohen kappa score across fold: 0.8468380523666922\n"
     ]
    }
   ],
   "source": [
    "from sklearn.model_selection import StratifiedKFold\n",
    "from sklearn.linear_model import LinearRegression\n",
    "from sklearn.metrics import confusion_matrix, ConfusionMatrixDisplay, f1_score, cohen_kappa_score\n",
    "from aes2_preproces_cache_vectorize import *\n",
    "\n",
    "import builtins\n",
    "original_print = builtins.print\n",
    "def patch_print(text, *args, **kwargs):\n",
    "    if not isinstance(text, str):\n",
    "        return original_print(text, *args, **kwargs)\n",
    "    if \"\t\" in text:\n",
    "        n = text.split(\"\t\")[0]\n",
    "        try:\n",
    "            n = int(n.strip(\"[]\"))\n",
    "            if n % 100 == 0:\n",
    "                original_print(text)\n",
    "            return None\n",
    "        except:\n",
    "            pass\n",
    "    original_print(text, *args, **kwargs)\n",
    "\n",
    "builtins.print = patch_print\n",
    "\n",
    "n_splits = 15\n",
    "models = []\n",
    "predictions = []\n",
    "f1_scores = []\n",
    "kappa_scores = []\n",
    "\n",
    "\n",
    "def quadratic_weighted_kappa(y_true, y_pred):\n",
    "    if isinstance(y_pred, xgb.QuantileDMatrix):\n",
    "        # XGB\n",
    "        y_true, y_pred = y_pred, y_true\n",
    "\n",
    "        y_true = (y_true.get_label() + a).round()\n",
    "        y_pred = (y_pred + a).clip(1, 6).round()\n",
    "        qwk = cohen_kappa_score(y_true, y_pred, weights=\"quadratic\")\n",
    "        return 'QWK', qwk\n",
    "\n",
    "    else:\n",
    "        # For lgb\n",
    "        y_true = y_true + a\n",
    "        y_pred = (y_pred + a).clip(1, 6).round()\n",
    "        qwk = cohen_kappa_score(y_true, y_pred, weights=\"quadratic\")\n",
    "        return 'QWK', qwk, True\n",
    "    \n",
    "def qwk_obj(y_true, y_pred):\n",
    "    labels = y_true + a\n",
    "    preds = y_pred + a\n",
    "    preds = preds.clip(1, 6)\n",
    "    f = 1/2*np.sum((preds-labels)**2)\n",
    "    g = 1/2*np.sum((preds-a)**2+b)\n",
    "    df = preds - labels\n",
    "    dg = preds - a\n",
    "    grad = (df/g - f*dg/g**2)*len(labels)\n",
    "    hess = np.ones(len(labels))\n",
    "    return grad, hess\n",
    "\n",
    "class Predictor:\n",
    "    def __init__(self, models: list, n: float = 0.746):\n",
    "        self.models = models\n",
    "        self.n = n\n",
    "#         self.xgb_boost_best_iter = models[1].\n",
    "    def predict(self, X):\n",
    "        n_models = len(self.models)\n",
    "        predicted = None\n",
    "        n = self.n\n",
    "        for i, model in enumerate(self.models):\n",
    "            if i == 0:\n",
    "                predicted = n*model.predict(X)\n",
    "            else:\n",
    "                predicted += (1-n)*model.predict(X)\n",
    "        return predicted\n",
    "\n",
    "skf = StratifiedKFold(n_splits=n_splits, shuffle=True, random_state=0)\n",
    "xgboost_best_iters = []\n",
    "light_best_iters = []\n",
    "\n",
    "\n",
    "\n",
    "_test = pd.read_csv(\"/kaggle/input/learning-agency-lab-automated-essay-scoring-2/test.csv\")\n",
    "ENABLE_DONT_WASTE_YOUR_RUN_TIME = len(_test) < 10\n",
    "ENABLE_DONT_WASTE_YOUR_RUN_TIME = False\n",
    "oof = np.zeros(len(train), dtype='float32')\n",
    "for i, (train_index, test_index) in enumerate(skf.split(X, y_split), 1):\n",
    "    # Split the data into training and testing sets for this fold\n",
    "    print('fold',i)\n",
    "    X_train_fold, X_test_fold = X[train_index], X[test_index]\n",
    "    y_train_fold, y_test_fold, y_test_fold_int = y[train_index], y[test_index], y_split[test_index]\n",
    "    callbacks = [log_evaluation(period=25), early_stopping(stopping_rounds=75, first_metric_only=True)]\n",
    "    light = lgb.LGBMRegressor(\n",
    "            objective = qwk_obj,\n",
    "            metrics = 'None',\n",
    "            learning_rate = 0.05,\n",
    "            max_depth = 8,\n",
    "            num_leaves = 10,\n",
    "            colsample_bytree=0.3,\n",
    "            reg_alpha = 0.7,\n",
    "            reg_lambda = 0.1,\n",
    "            n_estimators=700,\n",
    "            random_state=42,\n",
    "            extra_trees=True,\n",
    "            class_weight='balanced',\n",
    "            device='gpu' if CUDA_AVAILABLE else 'cpu',\n",
    "            verbosity = - 1\n",
    "        )\n",
    "\n",
    "    # Fit the model on the training data for this fold  \n",
    "    light.fit(\n",
    "        X_train_fold,\n",
    "        y_train_fold,\n",
    "        eval_names=['train', 'valid'],\n",
    "        eval_set=[(X_train_fold, y_train_fold), (X_test_fold, y_test_fold)],\n",
    "        eval_metric=quadratic_weighted_kappa,\n",
    "        callbacks=callbacks\n",
    "    )\n",
    "    light_best_iters.append(light.best_iteration_)\n",
    "    print(f\"Light best iter: {light.best_iteration_}\")\n",
    "   \n",
    "    xgb_regressor = xgb.XGBRegressor(\n",
    "        objective = qwk_obj,\n",
    "        verbosity = 0,\n",
    "        metrics = 'None',\n",
    "        learning_rate = 0.1,\n",
    "        max_depth = 8,\n",
    "        num_leaves = 10,\n",
    "        colsample_bytree=0.5,\n",
    "        reg_alpha = 0.1,\n",
    "        reg_lambda = 1.6, # validation_1-QWK:0.84010\n",
    "#         reg_lambda = 0.8, validation_1-QWK:0.83917\n",
    "        \n",
    "        n_estimators=1024,\n",
    "        random_state=42,\n",
    "#         gamma=0.05,\n",
    "        extra_trees=True,\n",
    "        scale_pos_weight=100,\n",
    "        class_weight='balanced',\n",
    "        tree_method=\"hist\",\n",
    "        device=\"gpu\" if CUDA_AVAILABLE else \"cpu\"\n",
    "    #             device='gpu',\n",
    "    #             verbosity = 1\n",
    "    )\n",
    "    \n",
    "    xgb_callbacks = [\n",
    "        xgb.callback.EvaluationMonitor(period=25),\n",
    "        xgb.callback.EarlyStopping(75, metric_name=\"QWK\", maximize=True, save_best=True, data_name=\"validation_1\")\n",
    "    ]\n",
    "    xgb_regressor.fit(\n",
    "        X_train_fold,\n",
    "        y_train_fold,\n",
    "        eval_set=[(X_train_fold, y_train_fold), (X_test_fold, y_test_fold)],\n",
    "        eval_metric=quadratic_weighted_kappa,\n",
    "        callbacks=xgb_callbacks\n",
    "    )\n",
    "    print(f\"XGBoost best iter: {xgb_regressor.get_booster().best_iteration}\")\n",
    "    xgboost_best_iters.append(xgb_regressor.get_booster().best_iteration)\n",
    "    predictor = Predictor([light, xgb_regressor], n=0.749)\n",
    "\n",
    "    models.append(predictor)\n",
    "    # Make predictions on the test data for this fold\n",
    "    predictions_fold = predictor.predict(X_test_fold)\n",
    "    predictions_fold = predictions_fold + a\n",
    "    predictions_fold = pd.cut(\n",
    "        predictions_fold, [-np.inf] + thresholds + [np.inf], \n",
    "                    labels=[1,2,3,4,5,6]\n",
    "    ).astype('int32')\n",
    "    oof[test_index] = predictions_fold\n",
    "    predictions_fold = predictions_fold.clip(1, 6).round()\n",
    "    predictions.append(predictions_fold)\n",
    "    # Calculate and store the F1 score for this fold\n",
    "    f1_fold = f1_score(y_test_fold_int, predictions_fold, average='weighted')\n",
    "    f1_scores.append(f1_fold)\n",
    "\n",
    "    # Calculate and store the Cohen's kappa score for this fold\n",
    "    kappa_fold = cohen_kappa_score(y_test_fold_int, predictions_fold, weights='quadratic')\n",
    "    kappa_scores.append(kappa_fold)\n",
    "#         predictor.booster_.save_model(f'fold_{i}.txt')\n",
    "    cm = confusion_matrix(y_test_fold_int, predictions_fold, labels=[x for x in range(1,7)])\n",
    "\n",
    "    disp = ConfusionMatrixDisplay(\n",
    "        confusion_matrix=cm,\n",
    "        display_labels=[x for x in range(1,7)]\n",
    "    )\n",
    "    disp.plot()\n",
    "    plt.show()\n",
    "    print(f'F1 score across fold: {f1_fold}')\n",
    "    print(f'Cohen kappa score across fold: {kappa_fold}')\n",
    "\n",
    "    gc.collect()\n",
    "    if ENABLE_DONT_WASTE_YOUR_RUN_TIME:\n",
    "        break\n"
   ]
  },
  {
   "cell_type": "markdown",
   "id": "d99fdea7",
   "metadata": {
    "papermill": {
     "duration": 0.03314,
     "end_time": "2024-06-22T01:41:04.170484",
     "exception": false,
     "start_time": "2024-06-22T01:41:04.137344",
     "status": "completed"
    },
    "tags": []
   },
   "source": [
    "# Threshold optimization"
   ]
  },
  {
   "cell_type": "code",
   "execution_count": 10,
   "id": "a4e4e815",
   "metadata": {
    "execution": {
     "iopub.execute_input": "2024-06-22T01:41:04.238634Z",
     "iopub.status.busy": "2024-06-22T01:41:04.237991Z",
     "iopub.status.idle": "2024-06-22T01:41:04.250024Z",
     "shell.execute_reply": "2024-06-22T01:41:04.249120Z"
    },
    "papermill": {
     "duration": 0.048347,
     "end_time": "2024-06-22T01:41:04.252001",
     "exception": false,
     "start_time": "2024-06-22T01:41:04.203654",
     "status": "completed"
    },
    "tags": []
   },
   "outputs": [],
   "source": [
    "def find_thresholds(true, pred, steps=50):\n",
    "\n",
    "    # SAVE TRIALS FOR PLOTTING\n",
    "    xs = [[],[],[],[],[]]\n",
    "    ys = [[],[],[],[],[]]\n",
    "\n",
    "    # COMPUTE BASELINE METRIC\n",
    "    threshold = [1.5, 2.5, 3.5, 4.5, 5.5]\n",
    "    pred2 = pd.cut(pred, [-np.inf] + threshold + [np.inf], \n",
    "                    labels=[1,2,3,4,5,6]).astype('int32')\n",
    "    best = cohen_kappa_score(true, pred2, weights=\"quadratic\")\n",
    "\n",
    "    # FIND FIVE OPTIMAL THRESHOLDS\n",
    "    for k in range(5):\n",
    "        for sign in [1,-1]:\n",
    "            v = threshold[k]\n",
    "            threshold2 = threshold.copy()\n",
    "            stop = 0\n",
    "            while stop<steps:\n",
    "\n",
    "                # TRY NEW THRESHOLD\n",
    "                v += sign * 0.01\n",
    "                threshold2[k] = v\n",
    "                pred2 = pd.cut(pred, [-np.inf] + threshold2 + [np.inf], \n",
    "                                labels=[1,2,3,4,5,6]).astype('int32')\n",
    "                metric = cohen_kappa_score(true, pred2, weights=\"quadratic\")\n",
    "\n",
    "                # SAVE TRIALS FOR PLOTTING\n",
    "                xs[k].append(v)\n",
    "                ys[k].append(metric)\n",
    "\n",
    "                # EARLY STOPPING\n",
    "                if metric<=best:\n",
    "                    stop += 1\n",
    "                else:\n",
    "                    stop = 0\n",
    "                    best = metric\n",
    "                    threshold = threshold2.copy()\n",
    "\n",
    "    # COMPUTE FINAL METRIC\n",
    "    pred2 = pd.cut(pred, [-np.inf] + threshold + [np.inf], \n",
    "                    labels=[1,2,3,4,5,6]).astype('int32')\n",
    "    best = cohen_kappa_score(true, pred2, weights=\"quadratic\")   \n",
    "\n",
    "    # RETURN RESULTS\n",
    "    threshold = [np.round(t,3) for t in threshold]\n",
    "    return best, threshold, xs, ys\n",
    "\n",
    "# best, thresholds, xs, ys = find_thresholds(y_split, oof, steps=500)\n",
    "# print('Best thresholds are:', thresholds )\n",
    "# print('=> achieve Overall CV QWK score =', best )\n",
    "\n",
    "# >> Output: thresholds = [1.5, 2.6, 3.5, 4.59, 5.55]"
   ]
  },
  {
   "cell_type": "markdown",
   "id": "63d524a3",
   "metadata": {
    "papermill": {
     "duration": 0.033645,
     "end_time": "2024-06-22T01:41:04.318584",
     "exception": false,
     "start_time": "2024-06-22T01:41:04.284939",
     "status": "completed"
    },
    "tags": []
   },
   "source": [
    "# Tuning Hyper parameters"
   ]
  },
  {
   "cell_type": "code",
   "execution_count": 11,
   "id": "d7c02823",
   "metadata": {
    "execution": {
     "iopub.execute_input": "2024-06-22T01:41:04.385661Z",
     "iopub.status.busy": "2024-06-22T01:41:04.384853Z",
     "iopub.status.idle": "2024-06-22T01:41:04.395187Z",
     "shell.execute_reply": "2024-06-22T01:41:04.394506Z"
    },
    "papermill": {
     "duration": 0.045857,
     "end_time": "2024-06-22T01:41:04.397025",
     "exception": false,
     "start_time": "2024-06-22T01:41:04.351168",
     "status": "completed"
    },
    "tags": []
   },
   "outputs": [],
   "source": [
    "if TUNE:\n",
    "    import optuna\n",
    "\n",
    "    def objective(trial):\n",
    "        xgb_regressor = xgb.XGBRegressor(\n",
    "            objective = qwk_obj,\n",
    "            verbosity = 0,\n",
    "            metrics = 'None',\n",
    "            learning_rate = 0.1,\n",
    "            max_depth = 8,\n",
    "            num_leaves = 10,\n",
    "            colsample_bytree=0.5,\n",
    "            reg_alpha = 0.1,\n",
    "            reg_lambda = trial.suggest_float('reg_lambda', 0, 2, step=0.05),\n",
    "    #         reg_lambda = 1.0, # validation_1-QWK:0.84010\n",
    "    #         reg_lambda = 0.8, validation_1-QWK:0.83917\n",
    "\n",
    "            n_estimators=1024,\n",
    "            random_state=42,\n",
    "    #         gamma=0.05,\n",
    "            extra_trees=True,\n",
    "            scale_pos_weight=100,\n",
    "            class_weight='balanced',\n",
    "            tree_method=\"hist\",\n",
    "            device=\"gpu\" if CUDA_AVAILABLE else \"cpu\"\n",
    "        #             device='gpu',\n",
    "        #             verbosity = 1\n",
    "        )\n",
    "\n",
    "        xgb_callbacks = [\n",
    "            xgb.callback.EvaluationMonitor(period=25),\n",
    "            xgb.callback.EarlyStopping(175, metric_name=\"QWK\", maximize=True, save_best=True, data_name=\"validation_1\")\n",
    "        ]\n",
    "        predictor = xgb_regressor.fit(\n",
    "            X_train_fold,\n",
    "            y_train_fold,\n",
    "            eval_set=[(X_train_fold, y_train_fold), (X_test_fold, y_test_fold)],\n",
    "            eval_metric=quadratic_weighted_kappa,\n",
    "            callbacks=xgb_callbacks\n",
    "        )\n",
    "\n",
    "        predictions_fold = predictor.predict(X_test_fold)\n",
    "        predictions_fold = predictions_fold + a\n",
    "        predictions_fold = predictions_fold.clip(1, 6).round()\n",
    "        predictions.append(predictions_fold)\n",
    "        # Calculate and store the F1 score for this fold\n",
    "\n",
    "\n",
    "        # Calculate and store the Cohen's kappa score for this fold\n",
    "        kappa_fold = cohen_kappa_score(y_test_fold_int, predictions_fold, weights='quadratic')\n",
    "        return kappa_fold\n",
    "\n",
    "    study = optuna.create_study(direction='maximize')\n",
    "    study.optimize(objective, n_trials=100)\n",
    "\n",
    "\n",
    "\n",
    "    print(f\"{study.best_params=}\")\n",
    "\n",
    "    with open(\"optuna_study.pickle\", \"wb\") as f:\n",
    "        pickle.dump(study, f)"
   ]
  },
  {
   "cell_type": "code",
   "execution_count": 12,
   "id": "68706cf6",
   "metadata": {
    "execution": {
     "iopub.execute_input": "2024-06-22T01:41:04.465875Z",
     "iopub.status.busy": "2024-06-22T01:41:04.465626Z",
     "iopub.status.idle": "2024-06-22T01:41:04.674603Z",
     "shell.execute_reply": "2024-06-22T01:41:04.673627Z"
    },
    "papermill": {
     "duration": 0.245316,
     "end_time": "2024-06-22T01:41:04.677087",
     "exception": false,
     "start_time": "2024-06-22T01:41:04.431771",
     "status": "completed"
    },
    "tags": []
   },
   "outputs": [],
   "source": [
    "with open(\"models.pickle\", \"wb\") as f:\n",
    "    pickle.dump(models, f)"
   ]
  },
  {
   "cell_type": "code",
   "execution_count": 13,
   "id": "3ef8ad47",
   "metadata": {
    "execution": {
     "iopub.execute_input": "2024-06-22T01:41:04.746682Z",
     "iopub.status.busy": "2024-06-22T01:41:04.745995Z",
     "iopub.status.idle": "2024-06-22T01:41:04.751708Z",
     "shell.execute_reply": "2024-06-22T01:41:04.750827Z"
    },
    "papermill": {
     "duration": 0.042015,
     "end_time": "2024-06-22T01:41:04.754020",
     "exception": false,
     "start_time": "2024-06-22T01:41:04.712005",
     "status": "completed"
    },
    "tags": []
   },
   "outputs": [
    {
     "name": "stdout",
     "output_type": "stream",
     "text": [
      "Mean F1 score across 15 folds: 0.6699189417456728\n",
      "Mean Cohen kappa score across 15 folds: 0.8349287226116748\n",
      "XGBoost mean best iters: 54.13333333333333\n",
      "LightBoost mean best iters: 173.66666666666666\n"
     ]
    }
   ],
   "source": [
    "mean_f1_score = np.mean(f1_scores)\n",
    "mean_kappa_score = np.mean(kappa_scores)\n",
    "# Print the mean scores\n",
    "print(f'Mean F1 score across {n_splits} folds: {mean_f1_score}')\n",
    "print(f'Mean Cohen kappa score across {n_splits} folds: {mean_kappa_score}')\n",
    "print(f\"XGBoost mean best iters: {sum(xgboost_best_iters)/len(xgboost_best_iters)}\")\n",
    "print(f\"LightBoost mean best iters: {sum(light_best_iters)/len(light_best_iters)}\")"
   ]
  },
  {
   "cell_type": "code",
   "execution_count": 14,
   "id": "11910f1f",
   "metadata": {
    "execution": {
     "iopub.execute_input": "2024-06-22T01:41:04.822281Z",
     "iopub.status.busy": "2024-06-22T01:41:04.822022Z",
     "iopub.status.idle": "2024-06-22T01:43:26.550544Z",
     "shell.execute_reply": "2024-06-22T01:43:26.549660Z"
    },
    "papermill": {
     "duration": 141.800512,
     "end_time": "2024-06-22T01:43:26.588488",
     "exception": false,
     "start_time": "2024-06-22T01:41:04.787976",
     "status": "completed"
    },
    "tags": []
   },
   "outputs": [
    {
     "name": "stderr",
     "output_type": "stream",
     "text": [
      "/kaggle/usr/lib/aes2-preproces-cache-vectorize/aes2_preproces_cache_vectorize.py:264: MapWithoutReturnDtypeWarning: Calling `map_elements` without specifying `return_dtype` can lead to unpredictable results. Specify `return_dtype` to silence this warning.\n",
      "  tmp = tmp.with_columns(pl.col('paragraph').map_elements(dataPreprocessing))\n",
      "/kaggle/usr/lib/aes2-preproces-cache-vectorize/aes2_preproces_cache_vectorize.py:265: MapWithoutReturnDtypeWarning: Calling `map_elements` without specifying `return_dtype` can lead to unpredictable results. Specify `return_dtype` to silence this warning.\n",
      "  tmp = tmp.with_columns(pl.col('paragraph').map_elements(remove_punctuation).alias('paragraph_no_pinctuation'))\n",
      "/kaggle/usr/lib/aes2-preproces-cache-vectorize/aes2_preproces_cache_vectorize.py:266: MapWithoutReturnDtypeWarning: Calling `map_elements` without specifying `return_dtype` can lead to unpredictable results. Specify `return_dtype` to silence this warning.\n",
      "  tmp = tmp.with_columns(pl.col('paragraph_no_pinctuation').map_elements(count_spelling_errors).alias(\"paragraph_error_num\"))\n",
      "/kaggle/usr/lib/aes2-preproces-cache-vectorize/aes2_preproces_cache_vectorize.py:268: MapWithoutReturnDtypeWarning: Calling `map_elements` without specifying `return_dtype` can lead to unpredictable results. Specify `return_dtype` to silence this warning.\n",
      "  tmp = tmp.with_columns(pl.col('paragraph').map_elements(lambda x: len(x)).alias(\"paragraph_len\"))\n",
      "sys:1: MapWithoutReturnDtypeWarning: Calling `map_elements` without specifying `return_dtype` can lead to unpredictable results. Specify `return_dtype` to silence this warning.\n",
      "sys:1: MapWithoutReturnDtypeWarning: Calling `map_elements` without specifying `return_dtype` can lead to unpredictable results. Specify `return_dtype` to silence this warning.\n",
      "sys:1: MapWithoutReturnDtypeWarning: Calling `map_elements` without specifying `return_dtype` can lead to unpredictable results. Specify `return_dtype` to silence this warning.\n",
      "/kaggle/usr/lib/aes2-preproces-cache-vectorize/aes2_preproces_cache_vectorize.py:310: MapWithoutReturnDtypeWarning: Calling `map_elements` without specifying `return_dtype` can lead to unpredictable results. Specify `return_dtype` to silence this warning.\n",
      "  tmp = tmp.with_columns(pl.col('sentence').map_elements(lambda x: len(x)).alias(\"sentence_len\"))\n",
      "/kaggle/usr/lib/aes2-preproces-cache-vectorize/aes2_preproces_cache_vectorize.py:314: MapWithoutReturnDtypeWarning: Calling `map_elements` without specifying `return_dtype` can lead to unpredictable results. Specify `return_dtype` to silence this warning.\n",
      "  tmp = tmp.with_columns(pl.col('sentence').map_elements(lambda x: len(x.split(' '))).alias(\"sentence_word_cnt\"))\n",
      "sys:1: MapWithoutReturnDtypeWarning: Calling `map_elements` without specifying `return_dtype` can lead to unpredictable results. Specify `return_dtype` to silence this warning.\n",
      "/kaggle/usr/lib/aes2-preproces-cache-vectorize/aes2_preproces_cache_vectorize.py:351: MapWithoutReturnDtypeWarning: Calling `map_elements` without specifying `return_dtype` can lead to unpredictable results. Specify `return_dtype` to silence this warning.\n",
      "  tmp = tmp.with_columns(pl.col('word').map_elements(lambda x: len(x)).alias(\"word_len\"))\n"
     ]
    },
    {
     "data": {
      "application/vnd.jupyter.widget-view+json": {
       "model_id": "f22bbe08e6064850bb43ab18a3cc886d",
       "version_major": 2,
       "version_minor": 0
      },
      "text/plain": [
       "Map:   0%|          | 0/3 [00:00<?, ? examples/s]"
      ]
     },
     "metadata": {},
     "output_type": "display_data"
    },
    {
     "name": "stderr",
     "output_type": "stream",
     "text": [
      "/opt/conda/lib/python3.10/site-packages/accelerate/accelerator.py:436: FutureWarning: Passing the following arguments to `Accelerator` is deprecated and will be removed in version 1.0 of Accelerate: dict_keys(['dispatch_batches', 'split_batches', 'even_batches', 'use_seedable_sampler']). Please pass an `accelerate.DataLoaderConfiguration` instead: \n",
      "dataloader_config = DataLoaderConfiguration(dispatch_batches=None, split_batches=False, even_batches=True, use_seedable_sampler=True)\n",
      "  warnings.warn(\n"
     ]
    },
    {
     "data": {
      "text/html": [],
      "text/plain": [
       "<IPython.core.display.HTML object>"
      ]
     },
     "metadata": {},
     "output_type": "display_data"
    },
    {
     "data": {
      "text/html": [],
      "text/plain": [
       "<IPython.core.display.HTML object>"
      ]
     },
     "metadata": {},
     "output_type": "display_data"
    },
    {
     "data": {
      "text/html": [],
      "text/plain": [
       "<IPython.core.display.HTML object>"
      ]
     },
     "metadata": {},
     "output_type": "display_data"
    },
    {
     "data": {
      "text/html": [],
      "text/plain": [
       "<IPython.core.display.HTML object>"
      ]
     },
     "metadata": {},
     "output_type": "display_data"
    },
    {
     "data": {
      "text/html": [],
      "text/plain": [
       "<IPython.core.display.HTML object>"
      ]
     },
     "metadata": {},
     "output_type": "display_data"
    },
    {
     "name": "stdout",
     "output_type": "stream",
     "text": [
      "tokenizers.__version__: 0.15.2\n",
      "transformers.__version__: 4.39.3\n"
     ]
    },
    {
     "name": "stderr",
     "output_type": "stream",
     "text": [
      "Model: microsoft/deberta-v3-large Score: 0.4569  Scores: [0.4881251563991662, 0.45350791183634237, 0.4167653497073674, 0.4555629168241569, 0.47309887903749326, 0.4544346186864903]\n"
     ]
    },
    {
     "name": "stdout",
     "output_type": "stream",
     "text": [
      "0    000d118\n",
      "1    000fe60\n",
      "2    001ab80\n",
      "Name: text_id, dtype: object\n",
      "0    000d118\n",
      "1    000fe60\n",
      "2    001ab80\n",
      "Name: text_id, dtype: object\n",
      "CustomModel(\n",
      "  (model): DebertaV2Model(\n",
      "    (embeddings): DebertaV2Embeddings(\n",
      "      (word_embeddings): Embedding(128100, 1024, padding_idx=0)\n",
      "      (LayerNorm): LayerNorm((1024,), eps=1e-07, elementwise_affine=True)\n",
      "      (dropout): StableDropout()\n",
      "    )\n",
      "    (encoder): DebertaV2Encoder(\n",
      "      (layer): ModuleList(\n",
      "        (0-23): 24 x DebertaV2Layer(\n",
      "          (attention): DebertaV2Attention(\n",
      "            (self): DisentangledSelfAttention(\n",
      "              (query_proj): Linear(in_features=1024, out_features=1024, bias=True)\n",
      "              (key_proj): Linear(in_features=1024, out_features=1024, bias=True)\n",
      "              (value_proj): Linear(in_features=1024, out_features=1024, bias=True)\n",
      "              (pos_dropout): StableDropout()\n",
      "              (dropout): StableDropout()\n",
      "            )\n",
      "            (output): DebertaV2SelfOutput(\n",
      "              (dense): Linear(in_features=1024, out_features=1024, bias=True)\n",
      "              (LayerNorm): LayerNorm((1024,), eps=1e-07, elementwise_affine=True)\n",
      "              (dropout): StableDropout()\n",
      "            )\n",
      "          )\n",
      "          (intermediate): DebertaV2Intermediate(\n",
      "            (dense): Linear(in_features=1024, out_features=4096, bias=True)\n",
      "            (intermediate_act_fn): GELUActivation()\n",
      "          )\n",
      "          (output): DebertaV2Output(\n",
      "            (dense): Linear(in_features=4096, out_features=1024, bias=True)\n",
      "            (LayerNorm): LayerNorm((1024,), eps=1e-07, elementwise_affine=True)\n",
      "            (dropout): StableDropout()\n",
      "          )\n",
      "        )\n",
      "      )\n",
      "      (rel_embeddings): Embedding(512, 1024)\n",
      "      (LayerNorm): LayerNorm((1024,), eps=1e-07, elementwise_affine=True)\n",
      "    )\n",
      "  )\n",
      "  (pool): MeanPooling()\n",
      "  (fc): Linear(in_features=1024, out_features=6, bias=True)\n",
      ")\n",
      "/kaggle/input/0927-deberta-v3-large-unscale/microsoft-deberta-v3-large_fold0_best.pth\n"
     ]
    },
    {
     "data": {
      "application/vnd.jupyter.widget-view+json": {
       "model_id": "691cf70d87f548b3bbba0af5a2a70dcb",
       "version_major": 2,
       "version_minor": 0
      },
      "text/plain": [
       "  0%|          | 0/1 [00:00<?, ?it/s]"
      ]
     },
     "metadata": {},
     "output_type": "display_data"
    },
    {
     "name": "stderr",
     "output_type": "stream",
     "text": [
      "Exception in thread QueueFeederThread:\n",
      "Traceback (most recent call last):\n",
      "  File \"/opt/conda/lib/python3.10/multiprocessing/queues.py\", line 239, in _feed\n",
      "Exception in thread QueueFeederThread:\n",
      "Traceback (most recent call last):\n",
      "  File \"/opt/conda/lib/python3.10/multiprocessing/queues.py\", line 239, in _feed\n",
      "Exception in thread QueueFeederThread:\n",
      "Traceback (most recent call last):\n",
      "  File \"/opt/conda/lib/python3.10/multiprocessing/queues.py\", line 239, in _feed\n",
      "    reader_close()\n",
      "  File \"/opt/conda/lib/python3.10/multiprocessing/connection.py\", line 177, in close\n",
      "    reader_close()\n",
      "  File \"/opt/conda/lib/python3.10/multiprocessing/connection.py\", line 177, in close\n",
      "    self._close()\n",
      "  File \"/opt/conda/lib/python3.10/multiprocessing/connection.py\", line 361, in _close\n",
      "    reader_close()\n",
      "  File \"/opt/conda/lib/python3.10/multiprocessing/connection.py\", line 177, in close\n",
      "    self._close()\n",
      "  File \"/opt/conda/lib/python3.10/multiprocessing/connection.py\", line 361, in _close\n",
      "    self._close()\n",
      "  File \"/opt/conda/lib/python3.10/multiprocessing/connection.py\", line 361, in _close\n",
      "    _close(self._handle)\n",
      "OSError: [Errno 9] Bad file descriptor\n",
      "\n",
      "During handling of the above exception, another exception occurred:\n",
      "\n",
      "Traceback (most recent call last):\n",
      "  File \"/opt/conda/lib/python3.10/threading.py\", line 1016, in _bootstrap_inner\n",
      "    _close(self._handle)\n",
      "OSError: [Errno 9] Bad file descriptor\n",
      "\n",
      "During handling of the above exception, another exception occurred:\n",
      "\n",
      "Traceback (most recent call last):\n",
      "  File \"/opt/conda/lib/python3.10/threading.py\", line 1016, in _bootstrap_inner\n",
      "    self.run()\n",
      "  File \"/opt/conda/lib/python3.10/threading.py\", line 953, in run\n",
      "    self.run()\n",
      "  File \"/opt/conda/lib/python3.10/threading.py\", line 953, in run\n",
      "    _close(self._handle)\n",
      "OSError: [Errno 9] Bad file descriptor\n",
      "\n",
      "During handling of the above exception, another exception occurred:\n",
      "\n",
      "Traceback (most recent call last):\n",
      "  File \"/opt/conda/lib/python3.10/threading.py\", line 1016, in _bootstrap_inner\n",
      "    self.run()\n",
      "  File \"/opt/conda/lib/python3.10/threading.py\", line 953, in run\n",
      "    self._target(*self._args, **self._kwargs)\n",
      "  File \"/opt/conda/lib/python3.10/multiprocessing/queues.py\", line 271, in _feed\n",
      "    self._target(*self._args, **self._kwargs)\n",
      "  File \"/opt/conda/lib/python3.10/multiprocessing/queues.py\", line 271, in _feed\n",
      "    self._target(*self._args, **self._kwargs)\n",
      "  File \"/opt/conda/lib/python3.10/multiprocessing/queues.py\", line 271, in _feed\n",
      "    queue_sem.release()\n",
      "ValueError: semaphore or lock released too many times\n",
      "    queue_sem.release()\n",
      "ValueError: semaphore or lock released too many times\n",
      "    queue_sem.release()\n",
      "ValueError: semaphore or lock released too many times\n"
     ]
    },
    {
     "name": "stdout",
     "output_type": "stream",
     "text": [
      "Features number:  21911\n",
      "[2 3 4]\n"
     ]
    },
    {
     "data": {
      "text/html": [
       "<div>\n",
       "<style scoped>\n",
       "    .dataframe tbody tr th:only-of-type {\n",
       "        vertical-align: middle;\n",
       "    }\n",
       "\n",
       "    .dataframe tbody tr th {\n",
       "        vertical-align: top;\n",
       "    }\n",
       "\n",
       "    .dataframe thead th {\n",
       "        text-align: right;\n",
       "    }\n",
       "</style>\n",
       "<table border=\"1\" class=\"dataframe\">\n",
       "  <thead>\n",
       "    <tr style=\"text-align: right;\">\n",
       "      <th></th>\n",
       "      <th>essay_id</th>\n",
       "      <th>score</th>\n",
       "    </tr>\n",
       "  </thead>\n",
       "  <tbody>\n",
       "    <tr>\n",
       "      <th>0</th>\n",
       "      <td>000d118</td>\n",
       "      <td>2</td>\n",
       "    </tr>\n",
       "    <tr>\n",
       "      <th>1</th>\n",
       "      <td>000fe60</td>\n",
       "      <td>3</td>\n",
       "    </tr>\n",
       "    <tr>\n",
       "      <th>2</th>\n",
       "      <td>001ab80</td>\n",
       "      <td>4</td>\n",
       "    </tr>\n",
       "  </tbody>\n",
       "</table>\n",
       "</div>"
      ],
      "text/plain": [
       "  essay_id  score\n",
       "0  000d118      2\n",
       "1  000fe60      3\n",
       "2  001ab80      4"
      ]
     },
     "metadata": {},
     "output_type": "display_data"
    }
   ],
   "source": [
    "from aes2_preproces_cache_vectorize import preprocess_test, infer\n",
    "\n",
    "test_feats = preprocess_test()\n",
    "\n",
    "def infer(test_feats, models):\n",
    "    probabilities = []\n",
    "    for model in models:\n",
    "        proba = model.predict(test_feats) + a\n",
    "        probabilities.append(proba)\n",
    "        del model\n",
    "        gc.collect()\n",
    "\n",
    "    # Compute the average probabilities across all models\n",
    "    predictions = np.mean(probabilities, axis=0)\n",
    "    predictions = pd.cut(predictions, [-np.inf] + thresholds + [np.inf], \n",
    "                    labels=[1,2,3,4,5,6]).astype('int32')\n",
    "\n",
    "\n",
    "\n",
    "    # Print the predictions\n",
    "    print(predictions)\n",
    "\n",
    "    submission = pd.read_csv(\"/kaggle/input/learning-agency-lab-automated-essay-scoring-2/sample_submission.csv\")\n",
    "    submission['score'] = predictions\n",
    "    submission['score'] = submission['score'].astype(int)\n",
    "    submission.to_csv(\"submission.csv\", index=None)\n",
    "    return submission\n",
    "\n",
    "\n",
    "submission = infer(\n",
    "    test_feats[feature_select].astype(np.float32),\n",
    "    models\n",
    ")\n",
    "display(submission.head())"
   ]
  },
  {
   "cell_type": "code",
   "execution_count": 15,
   "id": "b6bc6ef6",
   "metadata": {
    "execution": {
     "iopub.execute_input": "2024-06-22T01:43:26.662029Z",
     "iopub.status.busy": "2024-06-22T01:43:26.661704Z",
     "iopub.status.idle": "2024-06-22T01:43:26.684556Z",
     "shell.execute_reply": "2024-06-22T01:43:26.683684Z"
    },
    "papermill": {
     "duration": 0.061942,
     "end_time": "2024-06-22T01:43:26.686481",
     "exception": false,
     "start_time": "2024-06-22T01:43:26.624539",
     "status": "completed"
    },
    "tags": []
   },
   "outputs": [
    {
     "data": {
      "text/html": [
       "<div>\n",
       "<style scoped>\n",
       "    .dataframe tbody tr th:only-of-type {\n",
       "        vertical-align: middle;\n",
       "    }\n",
       "\n",
       "    .dataframe tbody tr th {\n",
       "        vertical-align: top;\n",
       "    }\n",
       "\n",
       "    .dataframe thead th {\n",
       "        text-align: right;\n",
       "    }\n",
       "</style>\n",
       "<table border=\"1\" class=\"dataframe\">\n",
       "  <thead>\n",
       "    <tr style=\"text-align: right;\">\n",
       "      <th></th>\n",
       "      <th>essay_id</th>\n",
       "      <th>score</th>\n",
       "    </tr>\n",
       "  </thead>\n",
       "  <tbody>\n",
       "    <tr>\n",
       "      <th>0</th>\n",
       "      <td>000d118</td>\n",
       "      <td>2</td>\n",
       "    </tr>\n",
       "    <tr>\n",
       "      <th>1</th>\n",
       "      <td>000fe60</td>\n",
       "      <td>3</td>\n",
       "    </tr>\n",
       "    <tr>\n",
       "      <th>2</th>\n",
       "      <td>001ab80</td>\n",
       "      <td>4</td>\n",
       "    </tr>\n",
       "  </tbody>\n",
       "</table>\n",
       "</div>"
      ],
      "text/plain": [
       "  essay_id  score\n",
       "0  000d118      2\n",
       "1  000fe60      3\n",
       "2  001ab80      4"
      ]
     },
     "execution_count": 15,
     "metadata": {},
     "output_type": "execute_result"
    }
   ],
   "source": [
    "sub1 = pd.read_csv('/kaggle/working/submission.csv')\n",
    "sub2 = pd.read_csv('/kaggle/working/submission_svr_0806.csv')\n",
    "merged_df = pd.merge(sub1, sub2, on='essay_id', suffixes=('_df1', '_df2'))\n",
    "merged_df['score'] =(merged_df['score_df1']*0.9+merged_df['score_df2']*0.1).round().astype(int)\n",
    "merged_df = merged_df[['essay_id', 'score']]\n",
    "merged_df.to_csv('submission.csv')\n",
    "merged_df"
   ]
  }
 ],
 "metadata": {
  "kaggle": {
   "accelerator": "nvidiaTeslaT4",
   "dataSources": [
    {
     "databundleVersionId": 8059942,
     "sourceId": 71485,
     "sourceType": "competition"
    },
    {
     "datasetId": 2453564,
     "sourceId": 4155787,
     "sourceType": "datasetVersion"
    },
    {
     "datasetId": 2508107,
     "sourceId": 4256323,
     "sourceType": "datasetVersion"
    },
    {
     "datasetId": 4813598,
     "sourceId": 8141507,
     "sourceType": "datasetVersion"
    },
    {
     "datasetId": 4832208,
     "sourceId": 8166166,
     "sourceType": "datasetVersion"
    },
    {
     "datasetId": 4791897,
     "sourceId": 8339744,
     "sourceType": "datasetVersion"
    },
    {
     "datasetId": 5000565,
     "sourceId": 8403792,
     "sourceType": "datasetVersion"
    },
    {
     "datasetId": 5230301,
     "sourceId": 8736558,
     "sourceType": "datasetVersion"
    },
    {
     "sourceId": 175940118,
     "sourceType": "kernelVersion"
    },
    {
     "sourceId": 176861104,
     "sourceType": "kernelVersion"
    },
    {
     "sourceId": 176987758,
     "sourceType": "kernelVersion"
    },
    {
     "sourceId": 176989302,
     "sourceType": "kernelVersion"
    },
    {
     "sourceId": 177473688,
     "sourceType": "kernelVersion"
    },
    {
     "sourceId": 177475777,
     "sourceType": "kernelVersion"
    },
    {
     "sourceId": 177525613,
     "sourceType": "kernelVersion"
    },
    {
     "sourceId": 177724159,
     "sourceType": "kernelVersion"
    },
    {
     "sourceId": 178258998,
     "sourceType": "kernelVersion"
    },
    {
     "sourceId": 183523308,
     "sourceType": "kernelVersion"
    }
   ],
   "dockerImageVersionId": 30699,
   "isGpuEnabled": true,
   "isInternetEnabled": false,
   "language": "python",
   "sourceType": "notebook"
  },
  "kernelspec": {
   "display_name": "Python 3",
   "language": "python",
   "name": "python3"
  },
  "language_info": {
   "codemirror_mode": {
    "name": "ipython",
    "version": 3
   },
   "file_extension": ".py",
   "mimetype": "text/x-python",
   "name": "python",
   "nbconvert_exporter": "python",
   "pygments_lexer": "ipython3",
   "version": "3.10.13"
  },
  "papermill": {
   "default_parameters": {},
   "duration": 3303.016452,
   "end_time": "2024-06-22T01:43:29.749706",
   "environment_variables": {},
   "exception": null,
   "input_path": "__notebook__.ipynb",
   "output_path": "__notebook__.ipynb",
   "parameters": {},
   "start_time": "2024-06-22T00:48:26.733254",
   "version": "2.5.0"
  },
  "widgets": {
   "application/vnd.jupyter.widget-state+json": {
    "state": {
     "09820fa4a92d4833a4c9bb79a7d48739": {
      "model_module": "@jupyter-widgets/controls",
      "model_module_version": "1.5.0",
      "model_name": "HTMLModel",
      "state": {
       "_dom_classes": [],
       "_model_module": "@jupyter-widgets/controls",
       "_model_module_version": "1.5.0",
       "_model_name": "HTMLModel",
       "_view_count": null,
       "_view_module": "@jupyter-widgets/controls",
       "_view_module_version": "1.5.0",
       "_view_name": "HTMLView",
       "description": "",
       "description_tooltip": null,
       "layout": "IPY_MODEL_c6902da891644b34aebd78bc134e3432",
       "placeholder": "​",
       "style": "IPY_MODEL_9f07c693fb4e4a48aa45b3aba2040432",
       "value": " 1/1 [00:01&lt;00:00,  1.50s/it]"
      }
     },
     "28686e2413dc4c38907fe4d5c95f8cac": {
      "model_module": "@jupyter-widgets/controls",
      "model_module_version": "1.5.0",
      "model_name": "HTMLModel",
      "state": {
       "_dom_classes": [],
       "_model_module": "@jupyter-widgets/controls",
       "_model_module_version": "1.5.0",
       "_model_name": "HTMLModel",
       "_view_count": null,
       "_view_module": "@jupyter-widgets/controls",
       "_view_module_version": "1.5.0",
       "_view_name": "HTMLView",
       "description": "",
       "description_tooltip": null,
       "layout": "IPY_MODEL_679c983d05484f4087bb19fa7a0f7db0",
       "placeholder": "​",
       "style": "IPY_MODEL_dc3a2131063547afba8c2167c390aec5",
       "value": "Map: 100%"
      }
     },
     "2abd1c91684f4ce8b7258fa39ad27077": {
      "model_module": "@jupyter-widgets/controls",
      "model_module_version": "1.5.0",
      "model_name": "HTMLModel",
      "state": {
       "_dom_classes": [],
       "_model_module": "@jupyter-widgets/controls",
       "_model_module_version": "1.5.0",
       "_model_name": "HTMLModel",
       "_view_count": null,
       "_view_module": "@jupyter-widgets/controls",
       "_view_module_version": "1.5.0",
       "_view_name": "HTMLView",
       "description": "",
       "description_tooltip": null,
       "layout": "IPY_MODEL_31a7c31e69b14d7ebccd2649c890a232",
       "placeholder": "​",
       "style": "IPY_MODEL_ff12a7f63768408281fdf9dfd342b307",
       "value": " 3/3 [00:00&lt;00:00, 67.14 examples/s]"
      }
     },
     "31a7c31e69b14d7ebccd2649c890a232": {
      "model_module": "@jupyter-widgets/base",
      "model_module_version": "1.2.0",
      "model_name": "LayoutModel",
      "state": {
       "_model_module": "@jupyter-widgets/base",
       "_model_module_version": "1.2.0",
       "_model_name": "LayoutModel",
       "_view_count": null,
       "_view_module": "@jupyter-widgets/base",
       "_view_module_version": "1.2.0",
       "_view_name": "LayoutView",
       "align_content": null,
       "align_items": null,
       "align_self": null,
       "border": null,
       "bottom": null,
       "display": null,
       "flex": null,
       "flex_flow": null,
       "grid_area": null,
       "grid_auto_columns": null,
       "grid_auto_flow": null,
       "grid_auto_rows": null,
       "grid_column": null,
       "grid_gap": null,
       "grid_row": null,
       "grid_template_areas": null,
       "grid_template_columns": null,
       "grid_template_rows": null,
       "height": null,
       "justify_content": null,
       "justify_items": null,
       "left": null,
       "margin": null,
       "max_height": null,
       "max_width": null,
       "min_height": null,
       "min_width": null,
       "object_fit": null,
       "object_position": null,
       "order": null,
       "overflow": null,
       "overflow_x": null,
       "overflow_y": null,
       "padding": null,
       "right": null,
       "top": null,
       "visibility": null,
       "width": null
      }
     },
     "4aa120f1808e494a974ae95bb98bfe34": {
      "model_module": "@jupyter-widgets/base",
      "model_module_version": "1.2.0",
      "model_name": "LayoutModel",
      "state": {
       "_model_module": "@jupyter-widgets/base",
       "_model_module_version": "1.2.0",
       "_model_name": "LayoutModel",
       "_view_count": null,
       "_view_module": "@jupyter-widgets/base",
       "_view_module_version": "1.2.0",
       "_view_name": "LayoutView",
       "align_content": null,
       "align_items": null,
       "align_self": null,
       "border": null,
       "bottom": null,
       "display": null,
       "flex": null,
       "flex_flow": null,
       "grid_area": null,
       "grid_auto_columns": null,
       "grid_auto_flow": null,
       "grid_auto_rows": null,
       "grid_column": null,
       "grid_gap": null,
       "grid_row": null,
       "grid_template_areas": null,
       "grid_template_columns": null,
       "grid_template_rows": null,
       "height": null,
       "justify_content": null,
       "justify_items": null,
       "left": null,
       "margin": null,
       "max_height": null,
       "max_width": null,
       "min_height": null,
       "min_width": null,
       "object_fit": null,
       "object_position": null,
       "order": null,
       "overflow": null,
       "overflow_x": null,
       "overflow_y": null,
       "padding": null,
       "right": null,
       "top": null,
       "visibility": null,
       "width": null
      }
     },
     "60d19db83c3141499bc886515d01d526": {
      "model_module": "@jupyter-widgets/controls",
      "model_module_version": "1.5.0",
      "model_name": "FloatProgressModel",
      "state": {
       "_dom_classes": [],
       "_model_module": "@jupyter-widgets/controls",
       "_model_module_version": "1.5.0",
       "_model_name": "FloatProgressModel",
       "_view_count": null,
       "_view_module": "@jupyter-widgets/controls",
       "_view_module_version": "1.5.0",
       "_view_name": "ProgressView",
       "bar_style": "success",
       "description": "",
       "description_tooltip": null,
       "layout": "IPY_MODEL_ba7ca64a0e3f4943b936e8b41c6d3b7c",
       "max": 1,
       "min": 0,
       "orientation": "horizontal",
       "style": "IPY_MODEL_a22913f2fe9f412494f7722f8067a692",
       "value": 1
      }
     },
     "679c983d05484f4087bb19fa7a0f7db0": {
      "model_module": "@jupyter-widgets/base",
      "model_module_version": "1.2.0",
      "model_name": "LayoutModel",
      "state": {
       "_model_module": "@jupyter-widgets/base",
       "_model_module_version": "1.2.0",
       "_model_name": "LayoutModel",
       "_view_count": null,
       "_view_module": "@jupyter-widgets/base",
       "_view_module_version": "1.2.0",
       "_view_name": "LayoutView",
       "align_content": null,
       "align_items": null,
       "align_self": null,
       "border": null,
       "bottom": null,
       "display": null,
       "flex": null,
       "flex_flow": null,
       "grid_area": null,
       "grid_auto_columns": null,
       "grid_auto_flow": null,
       "grid_auto_rows": null,
       "grid_column": null,
       "grid_gap": null,
       "grid_row": null,
       "grid_template_areas": null,
       "grid_template_columns": null,
       "grid_template_rows": null,
       "height": null,
       "justify_content": null,
       "justify_items": null,
       "left": null,
       "margin": null,
       "max_height": null,
       "max_width": null,
       "min_height": null,
       "min_width": null,
       "object_fit": null,
       "object_position": null,
       "order": null,
       "overflow": null,
       "overflow_x": null,
       "overflow_y": null,
       "padding": null,
       "right": null,
       "top": null,
       "visibility": null,
       "width": null
      }
     },
     "691cf70d87f548b3bbba0af5a2a70dcb": {
      "model_module": "@jupyter-widgets/controls",
      "model_module_version": "1.5.0",
      "model_name": "HBoxModel",
      "state": {
       "_dom_classes": [],
       "_model_module": "@jupyter-widgets/controls",
       "_model_module_version": "1.5.0",
       "_model_name": "HBoxModel",
       "_view_count": null,
       "_view_module": "@jupyter-widgets/controls",
       "_view_module_version": "1.5.0",
       "_view_name": "HBoxView",
       "box_style": "",
       "children": [
        "IPY_MODEL_8ef875cca47c4cc8b542c4bbdba28599",
        "IPY_MODEL_60d19db83c3141499bc886515d01d526",
        "IPY_MODEL_09820fa4a92d4833a4c9bb79a7d48739"
       ],
       "layout": "IPY_MODEL_4aa120f1808e494a974ae95bb98bfe34"
      }
     },
     "779b612342f34bed8ec913e8dac27cc0": {
      "model_module": "@jupyter-widgets/controls",
      "model_module_version": "1.5.0",
      "model_name": "ProgressStyleModel",
      "state": {
       "_model_module": "@jupyter-widgets/controls",
       "_model_module_version": "1.5.0",
       "_model_name": "ProgressStyleModel",
       "_view_count": null,
       "_view_module": "@jupyter-widgets/base",
       "_view_module_version": "1.2.0",
       "_view_name": "StyleView",
       "bar_color": null,
       "description_width": ""
      }
     },
     "8ef875cca47c4cc8b542c4bbdba28599": {
      "model_module": "@jupyter-widgets/controls",
      "model_module_version": "1.5.0",
      "model_name": "HTMLModel",
      "state": {
       "_dom_classes": [],
       "_model_module": "@jupyter-widgets/controls",
       "_model_module_version": "1.5.0",
       "_model_name": "HTMLModel",
       "_view_count": null,
       "_view_module": "@jupyter-widgets/controls",
       "_view_module_version": "1.5.0",
       "_view_name": "HTMLView",
       "description": "",
       "description_tooltip": null,
       "layout": "IPY_MODEL_fee9239584c24c96839800fa71a45a93",
       "placeholder": "​",
       "style": "IPY_MODEL_a23dd76b41b8442a94e3bb6c22974a78",
       "value": "100%"
      }
     },
     "9f07c693fb4e4a48aa45b3aba2040432": {
      "model_module": "@jupyter-widgets/controls",
      "model_module_version": "1.5.0",
      "model_name": "DescriptionStyleModel",
      "state": {
       "_model_module": "@jupyter-widgets/controls",
       "_model_module_version": "1.5.0",
       "_model_name": "DescriptionStyleModel",
       "_view_count": null,
       "_view_module": "@jupyter-widgets/base",
       "_view_module_version": "1.2.0",
       "_view_name": "StyleView",
       "description_width": ""
      }
     },
     "a22913f2fe9f412494f7722f8067a692": {
      "model_module": "@jupyter-widgets/controls",
      "model_module_version": "1.5.0",
      "model_name": "ProgressStyleModel",
      "state": {
       "_model_module": "@jupyter-widgets/controls",
       "_model_module_version": "1.5.0",
       "_model_name": "ProgressStyleModel",
       "_view_count": null,
       "_view_module": "@jupyter-widgets/base",
       "_view_module_version": "1.2.0",
       "_view_name": "StyleView",
       "bar_color": null,
       "description_width": ""
      }
     },
     "a23dd76b41b8442a94e3bb6c22974a78": {
      "model_module": "@jupyter-widgets/controls",
      "model_module_version": "1.5.0",
      "model_name": "DescriptionStyleModel",
      "state": {
       "_model_module": "@jupyter-widgets/controls",
       "_model_module_version": "1.5.0",
       "_model_name": "DescriptionStyleModel",
       "_view_count": null,
       "_view_module": "@jupyter-widgets/base",
       "_view_module_version": "1.2.0",
       "_view_name": "StyleView",
       "description_width": ""
      }
     },
     "b1fb4fd601e24a639e497613ef69eaa0": {
      "model_module": "@jupyter-widgets/base",
      "model_module_version": "1.2.0",
      "model_name": "LayoutModel",
      "state": {
       "_model_module": "@jupyter-widgets/base",
       "_model_module_version": "1.2.0",
       "_model_name": "LayoutModel",
       "_view_count": null,
       "_view_module": "@jupyter-widgets/base",
       "_view_module_version": "1.2.0",
       "_view_name": "LayoutView",
       "align_content": null,
       "align_items": null,
       "align_self": null,
       "border": null,
       "bottom": null,
       "display": null,
       "flex": null,
       "flex_flow": null,
       "grid_area": null,
       "grid_auto_columns": null,
       "grid_auto_flow": null,
       "grid_auto_rows": null,
       "grid_column": null,
       "grid_gap": null,
       "grid_row": null,
       "grid_template_areas": null,
       "grid_template_columns": null,
       "grid_template_rows": null,
       "height": null,
       "justify_content": null,
       "justify_items": null,
       "left": null,
       "margin": null,
       "max_height": null,
       "max_width": null,
       "min_height": null,
       "min_width": null,
       "object_fit": null,
       "object_position": null,
       "order": null,
       "overflow": null,
       "overflow_x": null,
       "overflow_y": null,
       "padding": null,
       "right": null,
       "top": null,
       "visibility": null,
       "width": null
      }
     },
     "ba7ca64a0e3f4943b936e8b41c6d3b7c": {
      "model_module": "@jupyter-widgets/base",
      "model_module_version": "1.2.0",
      "model_name": "LayoutModel",
      "state": {
       "_model_module": "@jupyter-widgets/base",
       "_model_module_version": "1.2.0",
       "_model_name": "LayoutModel",
       "_view_count": null,
       "_view_module": "@jupyter-widgets/base",
       "_view_module_version": "1.2.0",
       "_view_name": "LayoutView",
       "align_content": null,
       "align_items": null,
       "align_self": null,
       "border": null,
       "bottom": null,
       "display": null,
       "flex": null,
       "flex_flow": null,
       "grid_area": null,
       "grid_auto_columns": null,
       "grid_auto_flow": null,
       "grid_auto_rows": null,
       "grid_column": null,
       "grid_gap": null,
       "grid_row": null,
       "grid_template_areas": null,
       "grid_template_columns": null,
       "grid_template_rows": null,
       "height": null,
       "justify_content": null,
       "justify_items": null,
       "left": null,
       "margin": null,
       "max_height": null,
       "max_width": null,
       "min_height": null,
       "min_width": null,
       "object_fit": null,
       "object_position": null,
       "order": null,
       "overflow": null,
       "overflow_x": null,
       "overflow_y": null,
       "padding": null,
       "right": null,
       "top": null,
       "visibility": null,
       "width": null
      }
     },
     "c6902da891644b34aebd78bc134e3432": {
      "model_module": "@jupyter-widgets/base",
      "model_module_version": "1.2.0",
      "model_name": "LayoutModel",
      "state": {
       "_model_module": "@jupyter-widgets/base",
       "_model_module_version": "1.2.0",
       "_model_name": "LayoutModel",
       "_view_count": null,
       "_view_module": "@jupyter-widgets/base",
       "_view_module_version": "1.2.0",
       "_view_name": "LayoutView",
       "align_content": null,
       "align_items": null,
       "align_self": null,
       "border": null,
       "bottom": null,
       "display": null,
       "flex": null,
       "flex_flow": null,
       "grid_area": null,
       "grid_auto_columns": null,
       "grid_auto_flow": null,
       "grid_auto_rows": null,
       "grid_column": null,
       "grid_gap": null,
       "grid_row": null,
       "grid_template_areas": null,
       "grid_template_columns": null,
       "grid_template_rows": null,
       "height": null,
       "justify_content": null,
       "justify_items": null,
       "left": null,
       "margin": null,
       "max_height": null,
       "max_width": null,
       "min_height": null,
       "min_width": null,
       "object_fit": null,
       "object_position": null,
       "order": null,
       "overflow": null,
       "overflow_x": null,
       "overflow_y": null,
       "padding": null,
       "right": null,
       "top": null,
       "visibility": null,
       "width": null
      }
     },
     "dc3a2131063547afba8c2167c390aec5": {
      "model_module": "@jupyter-widgets/controls",
      "model_module_version": "1.5.0",
      "model_name": "DescriptionStyleModel",
      "state": {
       "_model_module": "@jupyter-widgets/controls",
       "_model_module_version": "1.5.0",
       "_model_name": "DescriptionStyleModel",
       "_view_count": null,
       "_view_module": "@jupyter-widgets/base",
       "_view_module_version": "1.2.0",
       "_view_name": "StyleView",
       "description_width": ""
      }
     },
     "ec104d8d42d94117839bcc2bbea6ae63": {
      "model_module": "@jupyter-widgets/base",
      "model_module_version": "1.2.0",
      "model_name": "LayoutModel",
      "state": {
       "_model_module": "@jupyter-widgets/base",
       "_model_module_version": "1.2.0",
       "_model_name": "LayoutModel",
       "_view_count": null,
       "_view_module": "@jupyter-widgets/base",
       "_view_module_version": "1.2.0",
       "_view_name": "LayoutView",
       "align_content": null,
       "align_items": null,
       "align_self": null,
       "border": null,
       "bottom": null,
       "display": null,
       "flex": null,
       "flex_flow": null,
       "grid_area": null,
       "grid_auto_columns": null,
       "grid_auto_flow": null,
       "grid_auto_rows": null,
       "grid_column": null,
       "grid_gap": null,
       "grid_row": null,
       "grid_template_areas": null,
       "grid_template_columns": null,
       "grid_template_rows": null,
       "height": null,
       "justify_content": null,
       "justify_items": null,
       "left": null,
       "margin": null,
       "max_height": null,
       "max_width": null,
       "min_height": null,
       "min_width": null,
       "object_fit": null,
       "object_position": null,
       "order": null,
       "overflow": null,
       "overflow_x": null,
       "overflow_y": null,
       "padding": null,
       "right": null,
       "top": null,
       "visibility": null,
       "width": null
      }
     },
     "f22bbe08e6064850bb43ab18a3cc886d": {
      "model_module": "@jupyter-widgets/controls",
      "model_module_version": "1.5.0",
      "model_name": "HBoxModel",
      "state": {
       "_dom_classes": [],
       "_model_module": "@jupyter-widgets/controls",
       "_model_module_version": "1.5.0",
       "_model_name": "HBoxModel",
       "_view_count": null,
       "_view_module": "@jupyter-widgets/controls",
       "_view_module_version": "1.5.0",
       "_view_name": "HBoxView",
       "box_style": "",
       "children": [
        "IPY_MODEL_28686e2413dc4c38907fe4d5c95f8cac",
        "IPY_MODEL_f5fc8bdb826242ebac10786e2bc8c53e",
        "IPY_MODEL_2abd1c91684f4ce8b7258fa39ad27077"
       ],
       "layout": "IPY_MODEL_b1fb4fd601e24a639e497613ef69eaa0"
      }
     },
     "f5fc8bdb826242ebac10786e2bc8c53e": {
      "model_module": "@jupyter-widgets/controls",
      "model_module_version": "1.5.0",
      "model_name": "FloatProgressModel",
      "state": {
       "_dom_classes": [],
       "_model_module": "@jupyter-widgets/controls",
       "_model_module_version": "1.5.0",
       "_model_name": "FloatProgressModel",
       "_view_count": null,
       "_view_module": "@jupyter-widgets/controls",
       "_view_module_version": "1.5.0",
       "_view_name": "ProgressView",
       "bar_style": "success",
       "description": "",
       "description_tooltip": null,
       "layout": "IPY_MODEL_ec104d8d42d94117839bcc2bbea6ae63",
       "max": 3,
       "min": 0,
       "orientation": "horizontal",
       "style": "IPY_MODEL_779b612342f34bed8ec913e8dac27cc0",
       "value": 3
      }
     },
     "fee9239584c24c96839800fa71a45a93": {
      "model_module": "@jupyter-widgets/base",
      "model_module_version": "1.2.0",
      "model_name": "LayoutModel",
      "state": {
       "_model_module": "@jupyter-widgets/base",
       "_model_module_version": "1.2.0",
       "_model_name": "LayoutModel",
       "_view_count": null,
       "_view_module": "@jupyter-widgets/base",
       "_view_module_version": "1.2.0",
       "_view_name": "LayoutView",
       "align_content": null,
       "align_items": null,
       "align_self": null,
       "border": null,
       "bottom": null,
       "display": null,
       "flex": null,
       "flex_flow": null,
       "grid_area": null,
       "grid_auto_columns": null,
       "grid_auto_flow": null,
       "grid_auto_rows": null,
       "grid_column": null,
       "grid_gap": null,
       "grid_row": null,
       "grid_template_areas": null,
       "grid_template_columns": null,
       "grid_template_rows": null,
       "height": null,
       "justify_content": null,
       "justify_items": null,
       "left": null,
       "margin": null,
       "max_height": null,
       "max_width": null,
       "min_height": null,
       "min_width": null,
       "object_fit": null,
       "object_position": null,
       "order": null,
       "overflow": null,
       "overflow_x": null,
       "overflow_y": null,
       "padding": null,
       "right": null,
       "top": null,
       "visibility": null,
       "width": null
      }
     },
     "ff12a7f63768408281fdf9dfd342b307": {
      "model_module": "@jupyter-widgets/controls",
      "model_module_version": "1.5.0",
      "model_name": "DescriptionStyleModel",
      "state": {
       "_model_module": "@jupyter-widgets/controls",
       "_model_module_version": "1.5.0",
       "_model_name": "DescriptionStyleModel",
       "_view_count": null,
       "_view_module": "@jupyter-widgets/base",
       "_view_module_version": "1.2.0",
       "_view_name": "StyleView",
       "description_width": ""
      }
     }
    },
    "version_major": 2,
    "version_minor": 0
   }
  }
 },
 "nbformat": 4,
 "nbformat_minor": 5
}
